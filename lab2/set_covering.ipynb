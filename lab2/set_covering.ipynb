{
 "cells": [
  {
   "cell_type": "markdown",
   "metadata": {},
   "source": [
    "# Set-covering using Genetic Algorithm\n"
   ]
  },
  {
   "cell_type": "code",
   "execution_count": 48,
   "metadata": {},
   "outputs": [],
   "source": [
    "import logging\n",
    "import random\n",
    "# from matplotlib import pyplot as plt\n",
    "from functools import reduce\n",
    "import math\n",
    "from collections import deque\n"
   ]
  },
  {
   "cell_type": "code",
   "execution_count": 49,
   "metadata": {},
   "outputs": [],
   "source": [
    "logging.getLogger().setLevel(logging.INFO)"
   ]
  },
  {
   "cell_type": "code",
   "execution_count": 50,
   "metadata": {},
   "outputs": [],
   "source": [
    "N = 1000\n",
    "POPULATION_SIZE = 2*N\n",
    "NUM_GENERATIONS = 200\n",
    "OFFSPRING_SIZE = math.ceil(1.5*N)"
   ]
  },
  {
   "cell_type": "markdown",
   "metadata": {},
   "source": [
    "### Problem definition\n"
   ]
  },
  {
   "cell_type": "code",
   "execution_count": 51,
   "metadata": {},
   "outputs": [],
   "source": [
    "def problem(N, seed=None):\n",
    "    random.seed(seed)\n",
    "    return [\n",
    "        list(set(random.randint(0, N - 1) for n in range(random.randint(N // 5, N // 2))))\n",
    "        for n in range(random.randint(N, N * 5))\n",
    "    ]\n"
   ]
  },
  {
   "cell_type": "markdown",
   "metadata": {},
   "source": [
    "### Genetic operators and definition"
   ]
  },
  {
   "cell_type": "code",
   "execution_count": 52,
   "metadata": {},
   "outputs": [],
   "source": [
    "\n",
    "class Individual:\n",
    "    def __init__(self, problem, genome=None):\n",
    "        if genome is None:\n",
    "            self.genome = tuple([0]*len(problem))\n",
    "        else:\n",
    "            self.genome = genome\n",
    "        self.problem = problem\n",
    "        self.fitness = self.compute_fitness()        \n",
    "\n",
    "    def __str__(self):\n",
    "        return str([x for gene, x in zip(self.genome, self.problem) if gene == 1])\n",
    "\n",
    "    # def is_goal(self):\n",
    "    #     return self.covered() == N\n",
    "\n",
    "    def weight(self):\n",
    "        return sum((len(el) for gene, el in zip(self.genome, self.problem) if gene == 1))\n",
    "    \n",
    "    def covered(self):\n",
    "        sol = (element for gene, element in zip(self.genome, self.problem) if gene == 1)\n",
    "        return len( reduce(lambda a, b: set(a) | set(b), sol, set()) )\n",
    "\n",
    "    def compute_fitness(self):\n",
    "        # covered number / weight of the solution + bonus if it is a goal solution\n",
    "        # return 0.3*self.covered() - 0.1*self.weight() #+ N*self.is_goal()\n",
    "        return (self.covered(), -self.weight())"
   ]
  },
  {
   "cell_type": "markdown",
   "metadata": {},
   "source": [
    "#### Genetic operators\n"
   ]
  },
  {
   "cell_type": "code",
   "execution_count": 53,
   "metadata": {},
   "outputs": [],
   "source": [
    "def crossover(g1, g2):\n",
    "    cut_point = random.randint(0, len(g1))\n",
    "    return g1[:cut_point] + g2[cut_point:]\n",
    "\n",
    "def mutation(g):\n",
    "    mutation_point = random.randint(0, len(g) - 1)\n",
    "    return g[:mutation_point] + (1 - g[mutation_point],) + g[mutation_point + 1:]\n",
    "\n",
    "def tournament(population, tournament_size=2):\n",
    "    return max(random.choices(population, k=tournament_size), key=lambda i: i.fitness)\n",
    "\n"
   ]
  },
  {
   "cell_type": "markdown",
   "metadata": {},
   "source": [
    "## Genetic algorithm"
   ]
  },
  {
   "cell_type": "markdown",
   "metadata": {},
   "source": [
    "### Initial Population\n"
   ]
  },
  {
   "cell_type": "code",
   "execution_count": 54,
   "metadata": {},
   "outputs": [
    {
     "ename": "KeyboardInterrupt",
     "evalue": "",
     "output_type": "error",
     "traceback": [
      "\u001b[1;31m---------------------------------------------------------------------------\u001b[0m",
      "\u001b[1;31mKeyboardInterrupt\u001b[0m                         Traceback (most recent call last)",
      "Cell \u001b[1;32mIn [54], line 6\u001b[0m\n\u001b[0;32m      1\u001b[0m all_states \u001b[39m=\u001b[39m \u001b[39mlist\u001b[39m(\u001b[39mset\u001b[39m([\u001b[39mtuple\u001b[39m(x) \u001b[39mfor\u001b[39;00m x \u001b[39min\u001b[39;00m problem(N, seed\u001b[39m=\u001b[39m\u001b[39m42\u001b[39m)]))\n\u001b[0;32m      3\u001b[0m \u001b[39m# logging.debug(f\"All states: {all_states}\")\u001b[39;00m\n\u001b[0;32m      4\u001b[0m \u001b[39m#logging.debug(f\"All states: {all_states_b}\")\u001b[39;00m\n\u001b[1;32m----> 6\u001b[0m population \u001b[39m=\u001b[39m [Individual(all_states) \u001b[39mfor\u001b[39;00m _ \u001b[39min\u001b[39;00m \u001b[39mrange\u001b[39m(POPULATION_SIZE)]\n",
      "Cell \u001b[1;32mIn [54], line 6\u001b[0m, in \u001b[0;36m<listcomp>\u001b[1;34m(.0)\u001b[0m\n\u001b[0;32m      1\u001b[0m all_states \u001b[39m=\u001b[39m \u001b[39mlist\u001b[39m(\u001b[39mset\u001b[39m([\u001b[39mtuple\u001b[39m(x) \u001b[39mfor\u001b[39;00m x \u001b[39min\u001b[39;00m problem(N, seed\u001b[39m=\u001b[39m\u001b[39m42\u001b[39m)]))\n\u001b[0;32m      3\u001b[0m \u001b[39m# logging.debug(f\"All states: {all_states}\")\u001b[39;00m\n\u001b[0;32m      4\u001b[0m \u001b[39m#logging.debug(f\"All states: {all_states_b}\")\u001b[39;00m\n\u001b[1;32m----> 6\u001b[0m population \u001b[39m=\u001b[39m [Individual(all_states) \u001b[39mfor\u001b[39;00m _ \u001b[39min\u001b[39;00m \u001b[39mrange\u001b[39m(POPULATION_SIZE)]\n",
      "Cell \u001b[1;32mIn [52], line 8\u001b[0m, in \u001b[0;36mIndividual.__init__\u001b[1;34m(self, problem, genome)\u001b[0m\n\u001b[0;32m      6\u001b[0m     \u001b[39mself\u001b[39m\u001b[39m.\u001b[39mgenome \u001b[39m=\u001b[39m genome\n\u001b[0;32m      7\u001b[0m \u001b[39mself\u001b[39m\u001b[39m.\u001b[39mproblem \u001b[39m=\u001b[39m problem\n\u001b[1;32m----> 8\u001b[0m \u001b[39mself\u001b[39m\u001b[39m.\u001b[39mfitness \u001b[39m=\u001b[39m \u001b[39mself\u001b[39;49m\u001b[39m.\u001b[39;49mcompute_fitness()\n",
      "Cell \u001b[1;32mIn [52], line 23\u001b[0m, in \u001b[0;36mIndividual.compute_fitness\u001b[1;34m(self)\u001b[0m\n\u001b[0;32m     20\u001b[0m     sol \u001b[39m=\u001b[39m (element \u001b[39mfor\u001b[39;00m gene, element \u001b[39min\u001b[39;00m \u001b[39mzip\u001b[39m(\u001b[39mself\u001b[39m\u001b[39m.\u001b[39mgenome, \u001b[39mself\u001b[39m\u001b[39m.\u001b[39mproblem) \u001b[39mif\u001b[39;00m gene \u001b[39m==\u001b[39m \u001b[39m1\u001b[39m)\n\u001b[0;32m     21\u001b[0m     \u001b[39mreturn\u001b[39;00m \u001b[39mlen\u001b[39m( reduce(\u001b[39mlambda\u001b[39;00m a, b: \u001b[39mset\u001b[39m(a) \u001b[39m|\u001b[39m \u001b[39mset\u001b[39m(b), sol, \u001b[39mset\u001b[39m()) )\n\u001b[1;32m---> 23\u001b[0m \u001b[39mdef\u001b[39;00m \u001b[39mcompute_fitness\u001b[39m(\u001b[39mself\u001b[39m):\n\u001b[0;32m     24\u001b[0m     \u001b[39m# covered number / weight of the solution + bonus if it is a goal solution\u001b[39;00m\n\u001b[0;32m     25\u001b[0m     \u001b[39m# return 0.3*self.covered() - 0.1*self.weight() #+ N*self.is_goal()\u001b[39;00m\n\u001b[0;32m     26\u001b[0m     \u001b[39mreturn\u001b[39;00m (\u001b[39mself\u001b[39m\u001b[39m.\u001b[39mcovered(), \u001b[39m-\u001b[39m\u001b[39mself\u001b[39m\u001b[39m.\u001b[39mweight())\n",
      "\u001b[1;31mKeyboardInterrupt\u001b[0m: "
     ]
    }
   ],
   "source": [
    "all_states = list(set([tuple(x) for x in problem(N, seed=42)]))\n",
    "\n",
    "# logging.debug(f\"All states: {all_states}\")\n",
    "#logging.debug(f\"All states: {all_states_b}\")\n",
    "\n",
    "population = [Individual(all_states) for _ in range(POPULATION_SIZE)]"
   ]
  },
  {
   "cell_type": "markdown",
   "metadata": {},
   "source": [
    "### Evolution"
   ]
  },
  {
   "cell_type": "code",
   "execution_count": null,
   "metadata": {},
   "outputs": [
    {
     "ename": "KeyboardInterrupt",
     "evalue": "",
     "output_type": "error",
     "traceback": [
      "\u001b[1;31m---------------------------------------------------------------------------\u001b[0m",
      "\u001b[1;31mKeyboardInterrupt\u001b[0m                         Traceback (most recent call last)",
      "Cell \u001b[1;32mIn [45], line 16\u001b[0m\n\u001b[0;32m     14\u001b[0m         p2 \u001b[39m=\u001b[39m tournament(population)\n\u001b[0;32m     15\u001b[0m         o \u001b[39m=\u001b[39m crossover(p1\u001b[39m.\u001b[39mgenome, p2\u001b[39m.\u001b[39mgenome)\n\u001b[1;32m---> 16\u001b[0m     offspring\u001b[39m.\u001b[39mappend(Individual(all_states, o))\n\u001b[0;32m     17\u001b[0m population \u001b[39m+\u001b[39m\u001b[39m=\u001b[39m offspring\n\u001b[0;32m     18\u001b[0m population \u001b[39m=\u001b[39m \u001b[39msorted\u001b[39m(population, key\u001b[39m=\u001b[39m\u001b[39mlambda\u001b[39;00m i: i\u001b[39m.\u001b[39mfitness, reverse\u001b[39m=\u001b[39m\u001b[39mTrue\u001b[39;00m)[:POPULATION_SIZE]\n",
      "Cell \u001b[1;32mIn [42], line 8\u001b[0m, in \u001b[0;36mIndividual.__init__\u001b[1;34m(self, problem, genome)\u001b[0m\n\u001b[0;32m      6\u001b[0m     \u001b[39mself\u001b[39m\u001b[39m.\u001b[39mgenome \u001b[39m=\u001b[39m genome\n\u001b[0;32m      7\u001b[0m \u001b[39mself\u001b[39m\u001b[39m.\u001b[39mproblem \u001b[39m=\u001b[39m problem\n\u001b[1;32m----> 8\u001b[0m \u001b[39mself\u001b[39m\u001b[39m.\u001b[39mfitness \u001b[39m=\u001b[39m \u001b[39mself\u001b[39;49m\u001b[39m.\u001b[39;49mcompute_fitness()\n",
      "Cell \u001b[1;32mIn [42], line 26\u001b[0m, in \u001b[0;36mIndividual.compute_fitness\u001b[1;34m(self)\u001b[0m\n\u001b[0;32m     23\u001b[0m \u001b[39mdef\u001b[39;00m \u001b[39mcompute_fitness\u001b[39m(\u001b[39mself\u001b[39m):\n\u001b[0;32m     24\u001b[0m     \u001b[39m# covered number / weight of the solution + bonus if it is a goal solution\u001b[39;00m\n\u001b[0;32m     25\u001b[0m     \u001b[39m# return 0.3*self.covered() - 0.1*self.weight() #+ N*self.is_goal()\u001b[39;00m\n\u001b[1;32m---> 26\u001b[0m     \u001b[39mreturn\u001b[39;00m (\u001b[39mself\u001b[39;49m\u001b[39m.\u001b[39;49mcovered(), \u001b[39m-\u001b[39m\u001b[39mself\u001b[39m\u001b[39m.\u001b[39mweight())\n",
      "Cell \u001b[1;32mIn [42], line 21\u001b[0m, in \u001b[0;36mIndividual.covered\u001b[1;34m(self)\u001b[0m\n\u001b[0;32m     19\u001b[0m \u001b[39mdef\u001b[39;00m \u001b[39mcovered\u001b[39m(\u001b[39mself\u001b[39m):\n\u001b[0;32m     20\u001b[0m     sol \u001b[39m=\u001b[39m (element \u001b[39mfor\u001b[39;00m gene, element \u001b[39min\u001b[39;00m \u001b[39mzip\u001b[39m(\u001b[39mself\u001b[39m\u001b[39m.\u001b[39mgenome, \u001b[39mself\u001b[39m\u001b[39m.\u001b[39mproblem) \u001b[39mif\u001b[39;00m gene \u001b[39m==\u001b[39m \u001b[39m1\u001b[39m)\n\u001b[1;32m---> 21\u001b[0m     \u001b[39mreturn\u001b[39;00m \u001b[39mlen\u001b[39m( reduce(\u001b[39mlambda\u001b[39;49;00m a, b: \u001b[39mset\u001b[39;49m(a) \u001b[39m|\u001b[39;49m \u001b[39mset\u001b[39;49m(b), sol, \u001b[39mset\u001b[39;49m()) )\n",
      "Cell \u001b[1;32mIn [42], line 20\u001b[0m, in \u001b[0;36m<genexpr>\u001b[1;34m(.0)\u001b[0m\n\u001b[0;32m     19\u001b[0m \u001b[39mdef\u001b[39;00m \u001b[39mcovered\u001b[39m(\u001b[39mself\u001b[39m):\n\u001b[1;32m---> 20\u001b[0m     sol \u001b[39m=\u001b[39m (element \u001b[39mfor\u001b[39;00m gene, element \u001b[39min\u001b[39;00m \u001b[39mzip\u001b[39m(\u001b[39mself\u001b[39m\u001b[39m.\u001b[39mgenome, \u001b[39mself\u001b[39m\u001b[39m.\u001b[39mproblem) \u001b[39mif\u001b[39;00m gene \u001b[39m==\u001b[39;49m \u001b[39m1\u001b[39;49m)\n\u001b[0;32m     21\u001b[0m     \u001b[39mreturn\u001b[39;00m \u001b[39mlen\u001b[39m( reduce(\u001b[39mlambda\u001b[39;00m a, b: \u001b[39mset\u001b[39m(a) \u001b[39m|\u001b[39m \u001b[39mset\u001b[39m(b), sol, \u001b[39mset\u001b[39m()) )\n",
      "\u001b[1;31mKeyboardInterrupt\u001b[0m: "
     ]
    }
   ],
   "source": [
    "LOG_FREQUENCY = 10\n",
    "STEADY_STATE_COUNT = 20\n",
    "latest_fitness = deque(maxlen=STEADY_STATE_COUNT)\n",
    "\n",
    "for generation in range(NUM_GENERATIONS):\n",
    "    offspring = list()\n",
    "    for i in range(OFFSPRING_SIZE):\n",
    "        mutation_rate = 0.3\n",
    "        if random.random() < mutation_rate:\n",
    "            p = tournament(population)\n",
    "            o = mutation(p.genome)\n",
    "        else:\n",
    "            p1 = tournament(population)\n",
    "            p2 = tournament(population)\n",
    "            o = crossover(p1.genome, p2.genome)\n",
    "        offspring.append(Individual(all_states, o))\n",
    "    population += offspring\n",
    "    population = sorted(population, key=lambda i: i.fitness, reverse=True)[:POPULATION_SIZE]\n",
    "    best_one = population[0]\n",
    "    if (generation + 1) % LOG_FREQUENCY == 0:\n",
    "        logging.debug(f\"#{generation + 1} fitness={best_one.fitness}, w = {best_one.weight()}\") \n",
    "    latest_fitness.append(best_one.fitness)\n",
    "    if latest_fitness.count(best_one.fitness) == STEADY_STATE_COUNT:\n",
    "        logging.debug(f\"Stopping at generation {generation + 1} with fitness: {best_one.fitness}\")\n",
    "        break\n",
    "    \n"
   ]
  },
  {
   "cell_type": "code",
   "execution_count": null,
   "metadata": {},
   "outputs": [
    {
     "name": "stdout",
     "output_type": "stream",
     "text": [
      "Number of Generation: 63\n",
      "#1000 : weight: 3757, fitness = (1000, -3757), sol=True\n"
     ]
    }
   ],
   "source": [
    "print(f\"Number of Generation: {generation+1}\")\n",
    "print(f\"#{N} : weight: {population[0].weight()}, fitness = {population[0].fitness}\")"
   ]
  },
  {
   "cell_type": "code",
   "execution_count": 55,
   "metadata": {},
   "outputs": [],
   "source": [
    "def genetic_algorithm(N):\n",
    "    POPULATION_SIZE = 2*N\n",
    "    NUM_GENERATIONS = 200\n",
    "    OFFSPRING_SIZE = math.ceil(1.5*N)\n",
    "    \n",
    "    all_states = list(set([tuple(x) for x in problem(N, seed=42)]))\n",
    "    population = [Individual(all_states) for _ in range(POPULATION_SIZE)]\n",
    "    latest_fitness = deque(maxlen=STEADY_STATE_COUNT)\n",
    "\n",
    "    for generation in range(NUM_GENERATIONS):\n",
    "        offspring = list()\n",
    "        for i in range(OFFSPRING_SIZE):\n",
    "            mutation_rate = 0.3\n",
    "            if random.random() < mutation_rate:\n",
    "                p = tournament(population)\n",
    "                o = mutation(p.genome)\n",
    "            else:\n",
    "                p1 = tournament(population)\n",
    "                p2 = tournament(population)\n",
    "                o = crossover(p1.genome, p2.genome)\n",
    "            offspring.append(Individual(all_states, o))\n",
    "        population += offspring\n",
    "        population = sorted(population, key=lambda i: i.fitness, reverse=True)[:POPULATION_SIZE]\n",
    "        best_one = population[0]\n",
    "        if (generation + 1) % LOG_FREQUENCY == 0:\n",
    "            logging.debug(f\"#{generation + 1} fitness={best_one.fitness}, w = {best_one.weight()}\") \n",
    "        latest_fitness.append(best_one.fitness)\n",
    "        if latest_fitness.count(best_one.fitness) == STEADY_STATE_COUNT:\n",
    "            logging.debug(f\"Stopping at generation {generation + 1} with fitness: {best_one.fitness}\")\n",
    "            break\n",
    "    print(f\"Number of Generation: {generation+1}\")\n",
    "    print(f\"#{N} : weight: {population[0].weight()}, BLOAT= {(population[0].weight()-N)/N*100}, fitness = {population[0].fitness}\")\n"
   ]
  },
  {
   "cell_type": "code",
   "execution_count": 56,
   "metadata": {},
   "outputs": [
    {
     "name": "stdout",
     "output_type": "stream",
     "text": [
      "Number of Generation: 23\n",
      "#5 : weight: 5, BLOAT= 1.0, fitness = (5, -5)\n",
      "----------\n",
      "Number of Generation: 55\n",
      "#10 : weight: 10, BLOAT= 1.0, fitness = (10, -10)\n",
      "----------\n",
      "Number of Generation: 34\n",
      "#20 : weight: 29, BLOAT= 1.45, fitness = (20, -29)\n",
      "----------\n",
      "Number of Generation: 41\n",
      "#100 : weight: 216, BLOAT= 2.16, fitness = (100, -216)\n",
      "----------\n",
      "Number of Generation: 61\n",
      "#500 : weight: 1557, BLOAT= 3.114, fitness = (500, -1557)\n",
      "----------\n"
     ]
    }
   ],
   "source": [
    "for n in [5, 10, 20, 100, 500, 1000]:\n",
    "    genetic_algorithm(n)\n",
    "    print(\"----------\")"
   ]
  }
 ],
 "metadata": {
  "kernelspec": {
   "display_name": "Python 3.10.0 ('ci22-8VIwGAvU-py3.10')",
   "language": "python",
   "name": "python3"
  },
  "language_info": {
   "codemirror_mode": {
    "name": "ipython",
    "version": 3
   },
   "file_extension": ".py",
   "mimetype": "text/x-python",
   "name": "python",
   "nbconvert_exporter": "python",
   "pygments_lexer": "ipython3",
   "version": "3.10.0"
  },
  "orig_nbformat": 4,
  "vscode": {
   "interpreter": {
    "hash": "9c0b5ebbcc54db0eea4215a72b49a4750117c977bb82fac66e9d6a0397f1ffaa"
   }
  }
 },
 "nbformat": 4,
 "nbformat_minor": 2
}
