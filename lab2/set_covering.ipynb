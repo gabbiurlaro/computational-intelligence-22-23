{
 "cells": [
  {
   "cell_type": "markdown",
   "metadata": {},
   "source": [
    "# Set-covering using Genetic Algorithm\n"
   ]
  },
  {
   "cell_type": "code",
   "execution_count": 29,
   "metadata": {},
   "outputs": [],
   "source": [
    "import logging\n",
    "import random\n",
    "# from matplotlib import pyplot as plt\n",
    "from collections import namedtuple\n",
    "from operator import or_\n",
    "from functools import reduce\n",
    "\n"
   ]
  },
  {
   "cell_type": "code",
   "execution_count": 30,
   "metadata": {},
   "outputs": [],
   "source": [
    "logging.getLogger().setLevel(logging.DEBUG)"
   ]
  },
  {
   "cell_type": "code",
   "execution_count": 31,
   "metadata": {},
   "outputs": [],
   "source": [
    "POPULATION_SIZE = 1000\n",
    "N = 1000\n",
    "NUM_GENERATIONS = 2*N\n",
    "OFFSPRING_SIZE = 700"
   ]
  },
  {
   "cell_type": "markdown",
   "metadata": {},
   "source": [
    "### Problem definition\n"
   ]
  },
  {
   "cell_type": "code",
   "execution_count": 32,
   "metadata": {},
   "outputs": [],
   "source": [
    "def problem(N, seed=None):\n",
    "    random.seed(seed)\n",
    "    return [\n",
    "        list(set(random.randint(0, N - 1) for n in range(random.randint(N // 5, N // 2))))\n",
    "        for n in range(random.randint(N, N * 5))\n",
    "    ]\n",
    "\n",
    "def to_binary(x, N):\n",
    "    bm = [0]*N\n",
    "    for e in x:\n",
    "        bm[e] = 1\n",
    "    return tuple(bm)\n"
   ]
  },
  {
   "cell_type": "markdown",
   "metadata": {},
   "source": [
    "### Genetic operators and definition"
   ]
  },
  {
   "cell_type": "code",
   "execution_count": 33,
   "metadata": {},
   "outputs": [],
   "source": [
    "\n",
    "class Individual:\n",
    "    def __init__(self, problem, genome=None):\n",
    "        if genome is None:\n",
    "            self.genome = tuple([random.choice([0, 1]) for _ in problem])\n",
    "        else:\n",
    "            self.genome = genome\n",
    "        self.problem = problem\n",
    "        self.fitness = self.compute_fitness()\n",
    "        \n",
    "\n",
    "    # def __str__(self):\n",
    "    #     return str([x for gene, x in zip(self.genome, self.problem) if gene == 1])\n",
    "\n",
    "    def is_goal(self):\n",
    "        return self.covered() == N\n",
    "\n",
    "    def weight(self):\n",
    "        return sum([sum(el) for gene, el in zip(self.genome, self.problem) if gene == 1])\n",
    "    \n",
    "    def covered(self):\n",
    "        return len(set([x for gene, sublist in zip(self.genome, self.problem) if gene == 1 for x in sublist] ))\n",
    "\n",
    "    def compute_fitness(self):\n",
    "        # covered number / weight of the solution + bonus if it is a goal solution\n",
    "        # return self.covered()/(self.weight()+1) + self.is_goal()\n",
    "        return -self.weight() + N*self.is_goal()"
   ]
  },
  {
   "cell_type": "markdown",
   "metadata": {},
   "source": [
    "#### Genetic operators\n"
   ]
  },
  {
   "cell_type": "code",
   "execution_count": 34,
   "metadata": {},
   "outputs": [],
   "source": [
    "def crossover(g1, g2):\n",
    "    cut_point = random.randint(0, len(g1))\n",
    "    return g1[:cut_point] + g2[cut_point:]\n",
    "\n",
    "def mutation(g):\n",
    "    mutation_point = random.randint(0, len(g) - 1)\n",
    "    return g[:mutation_point] + (1 - g[mutation_point],) + g[mutation_point + 1:]\n",
    "\n",
    "def tournament(population, tournament_size=2):\n",
    "    return max(random.choices(population, k=tournament_size), key=lambda i: i.fitness)\n",
    "\n"
   ]
  },
  {
   "cell_type": "markdown",
   "metadata": {},
   "source": [
    "## Genetic algorithm"
   ]
  },
  {
   "cell_type": "markdown",
   "metadata": {},
   "source": [
    "### Initial Population\n"
   ]
  },
  {
   "cell_type": "code",
   "execution_count": 35,
   "metadata": {},
   "outputs": [
    {
     "ename": "KeyboardInterrupt",
     "evalue": "",
     "output_type": "error",
     "traceback": [
      "\u001b[1;31m---------------------------------------------------------------------------\u001b[0m",
      "\u001b[1;31mKeyboardInterrupt\u001b[0m                         Traceback (most recent call last)",
      "Cell \u001b[1;32mIn [35], line 6\u001b[0m\n\u001b[0;32m      1\u001b[0m all_states \u001b[39m=\u001b[39m \u001b[39mlist\u001b[39m(\u001b[39mset\u001b[39m([\u001b[39mtuple\u001b[39m(x) \u001b[39mfor\u001b[39;00m x \u001b[39min\u001b[39;00m problem(N, seed\u001b[39m=\u001b[39m\u001b[39m42\u001b[39m)]))\n\u001b[0;32m      3\u001b[0m \u001b[39m#logging.debug(f\"All states: {all_states}\")\u001b[39;00m\n\u001b[0;32m      4\u001b[0m \u001b[39m#logging.debug(f\"All states: {all_states_b}\")\u001b[39;00m\n\u001b[1;32m----> 6\u001b[0m population \u001b[39m=\u001b[39m [Individual(all_states) \u001b[39mfor\u001b[39;00m _ \u001b[39min\u001b[39;00m \u001b[39mrange\u001b[39m(POPULATION_SIZE)]\n",
      "Cell \u001b[1;32mIn [35], line 6\u001b[0m, in \u001b[0;36m<listcomp>\u001b[1;34m(.0)\u001b[0m\n\u001b[0;32m      1\u001b[0m all_states \u001b[39m=\u001b[39m \u001b[39mlist\u001b[39m(\u001b[39mset\u001b[39m([\u001b[39mtuple\u001b[39m(x) \u001b[39mfor\u001b[39;00m x \u001b[39min\u001b[39;00m problem(N, seed\u001b[39m=\u001b[39m\u001b[39m42\u001b[39m)]))\n\u001b[0;32m      3\u001b[0m \u001b[39m#logging.debug(f\"All states: {all_states}\")\u001b[39;00m\n\u001b[0;32m      4\u001b[0m \u001b[39m#logging.debug(f\"All states: {all_states_b}\")\u001b[39;00m\n\u001b[1;32m----> 6\u001b[0m population \u001b[39m=\u001b[39m [Individual(all_states) \u001b[39mfor\u001b[39;00m _ \u001b[39min\u001b[39;00m \u001b[39mrange\u001b[39m(POPULATION_SIZE)]\n",
      "Cell \u001b[1;32mIn [33], line 8\u001b[0m, in \u001b[0;36mIndividual.__init__\u001b[1;34m(self, problem, genome)\u001b[0m\n\u001b[0;32m      6\u001b[0m     \u001b[39mself\u001b[39m\u001b[39m.\u001b[39mgenome \u001b[39m=\u001b[39m genome\n\u001b[0;32m      7\u001b[0m \u001b[39mself\u001b[39m\u001b[39m.\u001b[39mproblem \u001b[39m=\u001b[39m problem\n\u001b[1;32m----> 8\u001b[0m \u001b[39mself\u001b[39m\u001b[39m.\u001b[39mfitness \u001b[39m=\u001b[39m \u001b[39mself\u001b[39;49m\u001b[39m.\u001b[39;49mcompute_fitness()\n",
      "Cell \u001b[1;32mIn [33], line 26\u001b[0m, in \u001b[0;36mIndividual.compute_fitness\u001b[1;34m(self)\u001b[0m\n\u001b[0;32m     23\u001b[0m \u001b[39mdef\u001b[39;00m \u001b[39mcompute_fitness\u001b[39m(\u001b[39mself\u001b[39m):\n\u001b[0;32m     24\u001b[0m     \u001b[39m# covered number / weight of the solution + bonus if it is a goal solution\u001b[39;00m\n\u001b[0;32m     25\u001b[0m     \u001b[39m# return self.covered()/(self.weight()+1) + self.is_goal()\u001b[39;00m\n\u001b[1;32m---> 26\u001b[0m     \u001b[39mreturn\u001b[39;00m \u001b[39m-\u001b[39m\u001b[39mself\u001b[39m\u001b[39m.\u001b[39mweight() \u001b[39m+\u001b[39m N\u001b[39m*\u001b[39m\u001b[39mself\u001b[39;49m\u001b[39m.\u001b[39;49mis_goal()\n",
      "Cell \u001b[1;32mIn [33], line 15\u001b[0m, in \u001b[0;36mIndividual.is_goal\u001b[1;34m(self)\u001b[0m\n\u001b[0;32m     14\u001b[0m \u001b[39mdef\u001b[39;00m \u001b[39mis_goal\u001b[39m(\u001b[39mself\u001b[39m):\n\u001b[1;32m---> 15\u001b[0m     \u001b[39mreturn\u001b[39;00m \u001b[39mself\u001b[39;49m\u001b[39m.\u001b[39;49mcovered() \u001b[39m==\u001b[39m N\n",
      "Cell \u001b[1;32mIn [33], line 21\u001b[0m, in \u001b[0;36mIndividual.covered\u001b[1;34m(self)\u001b[0m\n\u001b[0;32m     20\u001b[0m \u001b[39mdef\u001b[39;00m \u001b[39mcovered\u001b[39m(\u001b[39mself\u001b[39m):\n\u001b[1;32m---> 21\u001b[0m     \u001b[39mreturn\u001b[39;00m \u001b[39mlen\u001b[39m(\u001b[39mset\u001b[39m([x \u001b[39mfor\u001b[39;00m gene, sublist \u001b[39min\u001b[39;00m \u001b[39mzip\u001b[39m(\u001b[39mself\u001b[39m\u001b[39m.\u001b[39mgenome, \u001b[39mself\u001b[39m\u001b[39m.\u001b[39mproblem) \u001b[39mif\u001b[39;00m gene \u001b[39m==\u001b[39m \u001b[39m1\u001b[39m \u001b[39mfor\u001b[39;00m x \u001b[39min\u001b[39;00m sublist] ))\n",
      "Cell \u001b[1;32mIn [33], line 21\u001b[0m, in \u001b[0;36m<listcomp>\u001b[1;34m(.0)\u001b[0m\n\u001b[0;32m     20\u001b[0m \u001b[39mdef\u001b[39;00m \u001b[39mcovered\u001b[39m(\u001b[39mself\u001b[39m):\n\u001b[1;32m---> 21\u001b[0m     \u001b[39mreturn\u001b[39;00m \u001b[39mlen\u001b[39m(\u001b[39mset\u001b[39m([x \u001b[39mfor\u001b[39;00m gene, sublist \u001b[39min\u001b[39;00m \u001b[39mzip\u001b[39m(\u001b[39mself\u001b[39m\u001b[39m.\u001b[39mgenome, \u001b[39mself\u001b[39m\u001b[39m.\u001b[39mproblem) \u001b[39mif\u001b[39;00m gene \u001b[39m==\u001b[39m \u001b[39m1\u001b[39m \u001b[39mfor\u001b[39;00m x \u001b[39min\u001b[39;00m sublist] ))\n",
      "\u001b[1;31mKeyboardInterrupt\u001b[0m: "
     ]
    }
   ],
   "source": [
    "all_states = list(set([tuple(x) for x in problem(N, seed=42)]))\n",
    "\n",
    "#logging.debug(f\"All states: {all_states}\")\n",
    "#logging.debug(f\"All states: {all_states_b}\")\n",
    "\n",
    "population = [Individual(all_states) for _ in range(POPULATION_SIZE)]"
   ]
  },
  {
   "cell_type": "markdown",
   "metadata": {},
   "source": [
    "### Evolution"
   ]
  },
  {
   "cell_type": "code",
   "execution_count": null,
   "metadata": {},
   "outputs": [
    {
     "name": "stderr",
     "output_type": "stream",
     "text": [
      "DEBUG:root:#10 fitness=-205132, w = 205230\n",
      "DEBUG:root:#20 fitness=-172724, w = 172822\n",
      "DEBUG:root:#30 fitness=-138757, w = 138859\n",
      "DEBUG:root:#40 fitness=-116011, w = 116109\n",
      "DEBUG:root:#50 fitness=-99716, w = 99814\n",
      "DEBUG:root:#60 fitness=-84786, w = 84888\n",
      "DEBUG:root:#70 fitness=-72472, w = 72570\n",
      "DEBUG:root:#80 fitness=-62025, w = 62127\n",
      "DEBUG:root:#90 fitness=-54780, w = 54878\n",
      "DEBUG:root:#100 fitness=-45281, w = 45383\n",
      "DEBUG:root:#110 fitness=-37892, w = 37990\n",
      "DEBUG:root:#120 fitness=-30807, w = 30905\n",
      "DEBUG:root:#130 fitness=-22583, w = 22681\n",
      "DEBUG:root:#140 fitness=-17526, w = 17626\n",
      "DEBUG:root:#150 fitness=-12564, w = 12664\n",
      "DEBUG:root:#160 fitness=-7395, w = 7495\n",
      "DEBUG:root:#170 fitness=-4444, w = 4544\n",
      "DEBUG:root:#180 fitness=-2270, w = 2370\n",
      "DEBUG:root:#190 fitness=100, w = 0\n",
      "DEBUG:root:#200 fitness=100, w = 0\n"
     ]
    }
   ],
   "source": [
    "LOG_FREQUENCY = 10\n",
    "\n",
    "for generation in range(NUM_GENERATIONS):\n",
    "    offspring = list()\n",
    "    for i in range(OFFSPRING_SIZE):\n",
    "        if random.random() < 0.1:\n",
    "            p = tournament(population)\n",
    "            o = mutation(p.genome)\n",
    "        else:\n",
    "            p1 = tournament(population)\n",
    "            p2 = tournament(population)\n",
    "            o = crossover(p1.genome, p2.genome)\n",
    "        offspring.append(Individual(all_states, o))\n",
    "    population += offspring\n",
    "    population = sorted(population, key=lambda i: i.fitness, reverse=True)[:POPULATION_SIZE]\n",
    "    best_one = population[0]\n",
    "    if (generation + 1) % LOG_FREQUENCY == 0:\n",
    "        logging.debug(f\"#{generation + 1} fitness={best_one.fitness}, w = {best_one.weight()}\") \n",
    "    if best_one.weight()/N < 1.5 and best_one.is_goal():\n",
    "        break\n"
   ]
  },
  {
   "cell_type": "code",
   "execution_count": null,
   "metadata": {},
   "outputs": [
    {
     "name": "stdout",
     "output_type": "stream",
     "text": [
      "Number of Generation: 200\n",
      "#100 : weight: 0, fitness = 100, sol=False\n",
      "Solution: (0, 0, 0, 0, 0, 0, 0, 0, 0, 0, 0, 0, 0, 0, 0, 0, 0, 0, 0, 0, 0, 0, 0, 0, 0, 0, 0, 0, 0, 0, 0, 0, 0, 0, 0, 0, 0, 0, 0, 0, 0, 0, 0, 0, 0, 0, 0, 0, 0, 0, 0, 0, 0, 0, 0, 0, 0, 0, 0, 0, 0, 0, 0, 0, 0, 0, 0, 0, 0, 0, 0, 0, 0, 0, 0, 0, 0, 0, 0, 0, 0, 0, 0, 0, 0, 0, 0, 0, 0, 0, 0, 0, 0, 0, 0, 0, 0, 0, 0, 0, 0, 0, 0, 0, 0, 0, 0, 0, 0, 0, 0, 0, 0, 0, 0, 0, 0, 0, 0, 0, 0, 0, 0, 0, 0, 0, 0, 0, 0, 0, 0, 0, 0, 0, 0, 0, 0, 0, 0, 0, 0, 0, 0, 0, 0, 0, 0, 0, 0, 0, 0, 0, 0, 0, 0, 0, 0, 0, 0, 0, 0, 0, 0, 0, 0, 0, 0, 0, 0, 0, 0, 0, 0, 0, 0, 0, 0, 0, 0, 0, 0, 0, 0, 0, 0, 0, 0, 0, 0, 0, 0, 0, 0, 0, 0, 0, 0, 0, 0, 0, 0, 0, 0, 0, 0, 0, 0, 0, 0, 0, 0, 0, 0, 0, 0, 0, 0, 0, 0, 0, 0, 0, 0, 0, 0, 0, 0, 0, 0, 0, 0, 0, 0, 0, 0, 0, 0, 0, 0, 0, 0, 0, 0, 0, 0, 0, 0, 0, 0, 0, 0, 0, 0, 0, 0, 0, 0, 0, 0, 0, 0, 0, 0, 0, 0, 0, 0, 0, 0, 0, 0, 0, 0, 0, 0, 0, 0, 0, 0, 0, 0, 0, 0, 0, 0, 0, 0, 0, 0, 0, 0, 0, 0, 0, 0, 0, 0, 0, 0, 0, 0, 0, 0, 0, 0, 0, 0, 0, 0, 0, 0, 0, 0, 0, 0, 0, 0, 0, 0, 0, 0, 0, 0, 0, 0, 0, 0, 0, 0, 0, 0, 0, 0, 0, 0, 0, 0, 0, 0, 0, 0, 0, 0, 0, 0, 0, 0, 0, 0, 0, 0, 0, 0, 0, 0, 0, 0, 0, 0, 0, 0, 0, 0, 0, 0, 0, 0, 0, 0, 0, 0, 0, 0, 0, 0, 0, 0, 0, 0, 0, 0, 0, 0, 0, 0, 0, 0, 0, 0, 0, 0, 0, 0, 0, 0, 0, 0, 0, 0, 0, 0, 0, 0, 0, 0, 0, 0, 0, 0, 0, 0, 0, 0, 0, 0, 0, 0, 0, 0, 0, 0, 0, 0, 0, 0, 0, 0)\n"
     ]
    }
   ],
   "source": [
    "print(f\"Number of Generation: {generation+1}\")\n",
    "print(f\"#{N} : weight: {population[0].weight()}, fitness = {population[0].fitness}, sol={population[0].is_goal()}\")\n",
    "print(f'Solution: {population[0].genome}')"
   ]
  }
 ],
 "metadata": {
  "kernelspec": {
   "display_name": "Python 3.10.0 ('ci22-8VIwGAvU-py3.10')",
   "language": "python",
   "name": "python3"
  },
  "language_info": {
   "codemirror_mode": {
    "name": "ipython",
    "version": 3
   },
   "file_extension": ".py",
   "mimetype": "text/x-python",
   "name": "python",
   "nbconvert_exporter": "python",
   "pygments_lexer": "ipython3",
   "version": "3.10.0"
  },
  "orig_nbformat": 4,
  "vscode": {
   "interpreter": {
    "hash": "9c0b5ebbcc54db0eea4215a72b49a4750117c977bb82fac66e9d6a0397f1ffaa"
   }
  }
 },
 "nbformat": 4,
 "nbformat_minor": 2
}
