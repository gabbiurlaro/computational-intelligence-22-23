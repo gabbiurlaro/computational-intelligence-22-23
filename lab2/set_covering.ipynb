{
 "cells": [
  {
   "cell_type": "markdown",
   "metadata": {},
   "source": [
    "# Set-covering using Genetic Algorithm\n"
   ]
  },
  {
   "cell_type": "code",
   "execution_count": 130,
   "metadata": {},
   "outputs": [],
   "source": [
    "import logging\n",
    "import random\n",
    "from matplotlib import pyplot as plt\n",
    "from collections import namedtuple\n"
   ]
  },
  {
   "cell_type": "code",
   "execution_count": 131,
   "metadata": {},
   "outputs": [],
   "source": [
    "logging.getLogger().setLevel(logging.DEBUG)"
   ]
  },
  {
   "cell_type": "code",
   "execution_count": 132,
   "metadata": {},
   "outputs": [],
   "source": [
    "POPULATION_SIZE = 30\n",
    "N = 5\n",
    "NUM_GENERATIONS = 50\n",
    "OFFSPRING_SIZE = 10"
   ]
  },
  {
   "cell_type": "markdown",
   "metadata": {},
   "source": [
    "### Problem definition\n"
   ]
  },
  {
   "cell_type": "code",
   "execution_count": 133,
   "metadata": {},
   "outputs": [],
   "source": [
    "def problem(N, seed=None):\n",
    "    random.seed(seed)\n",
    "    return [\n",
    "        list(set(random.randint(0, N - 1) for n in range(random.randint(N // 5, N // 2))))\n",
    "        for n in range(random.randint(N, N * 5))\n",
    "    ]"
   ]
  },
  {
   "cell_type": "markdown",
   "metadata": {},
   "source": [
    "### Genetic operators and definition"
   ]
  },
  {
   "cell_type": "code",
   "execution_count": 134,
   "metadata": {},
   "outputs": [],
   "source": [
    "\n",
    "class Individual:\n",
    "    def __init__(self, problem: list[tuple[int]], genome=None):\n",
    "        if genome is None:\n",
    "            self.genome = tuple([random.choice([0, 1]) for _ in problem])\n",
    "        else:\n",
    "            self.genome = genome\n",
    "        self.problem = problem\n",
    "\n",
    "    def __str__(self):\n",
    "        return str([x for gene, x in zip(self.genome, self.problem) if gene == 1])\n",
    "\n",
    "    def fitness(self):\n",
    "        return len(set([n for gene, x in zip(self.genome, self.problem) if gene == 1 for n in x])) - sum([len(x) for gene, x in zip(self.genome, self.problem) if gene == 1])"
   ]
  },
  {
   "cell_type": "code",
   "execution_count": 135,
   "metadata": {},
   "outputs": [],
   "source": [
    "def crossover(g1, g2):\n",
    "    cut_point = random.randint(0, len(g1))\n",
    "    return g1[:cut_point] + g2[cut_point:]\n",
    "\n",
    "def mutation(g):\n",
    "    mutation_point = random.randint(0, len(g) - 1)\n",
    "    return g[:mutation_point] + (1 - g[mutation_point],) + g[mutation_point + 1 :]\n",
    "\n",
    "def tournament(population, tournament_size=4):\n",
    "    return max(random.choices(population, k=tournament_size), key=lambda i: i.fitness())\n",
    "\n"
   ]
  },
  {
   "cell_type": "markdown",
   "metadata": {},
   "source": [
    "## Genetic algorithm"
   ]
  },
  {
   "cell_type": "markdown",
   "metadata": {},
   "source": [
    "### Initial Population\n"
   ]
  },
  {
   "cell_type": "code",
   "execution_count": 136,
   "metadata": {},
   "outputs": [
    {
     "name": "stderr",
     "output_type": "stream",
     "text": [
      "DEBUG:root:All states: [(0, 1), (2, 4), (2,), (4,), (2, 3), (1,), (0, 2), (3,), (0,), (1, 3)]\n"
     ]
    }
   ],
   "source": [
    "all_states = list(set([tuple(x) for x in problem(N, seed=42)]))\n",
    "logging.debug(f\"All states: {all_states}\")\n",
    "\n",
    "population = [Individual(all_states) for _ in range(2)]"
   ]
  },
  {
   "cell_type": "markdown",
   "metadata": {},
   "source": [
    "### Evolution"
   ]
  },
  {
   "cell_type": "code",
   "execution_count": 137,
   "metadata": {},
   "outputs": [],
   "source": [
    "for generation in range(NUM_GENERATIONS):\n",
    "    offspring = list()\n",
    "    for i in range(OFFSPRING_SIZE):\n",
    "        if random.random() < 0.3:\n",
    "            p = tournament(population)\n",
    "            o = mutation(p.genome)\n",
    "        else:\n",
    "            p1 = tournament(population)\n",
    "            p2 = tournament(population)\n",
    "            o = crossover(p1.genome, p2.genome)\n",
    "        offspring.append(Individual(all_states, o))\n",
    "    population += offspring\n",
    "    population = sorted(population, key=lambda i: i.fitness(), reverse=True)[:POPULATION_SIZE]\n",
    "\n"
   ]
  },
  {
   "cell_type": "code",
   "execution_count": 138,
   "metadata": {},
   "outputs": [
    {
     "name": "stdout",
     "output_type": "stream",
     "text": [
      "population: 30\n",
      "[(0, 1), (2, 4), (4,), (3,), (0,), (1, 3)]\n",
      "[(0, 1), (2, 4), (4,), (0,), (1, 3)]\n",
      "[(0, 1), (2, 4), (4,), (3,), (0,), (1, 3)]\n",
      "[(0, 1), (2, 4), (4,), (3,), (0,), (1, 3)]\n",
      "[(2, 4), (4,), (3,), (0,), (1, 3)]\n",
      "[(0, 1), (2, 4), (4,), (2, 3), (1, 3)]\n",
      "[(0, 1), (2, 4), (4,), (3,), (0,), (1, 3)]\n",
      "[(0, 1), (2, 4), (4,), (3,), (0,), (1, 3)]\n",
      "[(0, 1), (2, 4), (4,), (3,), (0,), (1, 3)]\n",
      "[(0, 1), (2, 4), (4,), (3,), (0,), (1, 3)]\n",
      "[(0, 1), (2, 4), (4,), (3,), (0,), (1, 3)]\n",
      "[(0, 1), (2, 4), (4,), (3,), (0,), (1, 3)]\n",
      "[(2, 4), (4,), (0,), (1, 3)]\n",
      "[(0, 1), (2, 4), (4,), (3,), (0,), (1, 3)]\n",
      "[(0, 1), (2, 4), (4,), (2, 3), (0,), (1, 3)]\n",
      "[(0, 1), (2, 4), (3,), (0,), (1, 3)]\n",
      "[(0, 1), (2, 4), (4,), (2, 3), (0, 2), (1, 3)]\n",
      "[(0, 1), (2, 4), (4,), (2, 3), (3,), (0,), (1, 3)]\n",
      "[(0, 1), (2, 4), (4,), (3,), (0,), (1, 3)]\n",
      "[(2, 4), (4,), (0,), (1, 3)]\n",
      "[(0, 1), (2, 4), (4,), (2, 3), (1, 3)]\n",
      "[(0, 1), (2, 4), (4,), (0,), (1, 3)]\n",
      "[(0, 1), (2, 4), (4,), (2, 3), (3,), (0,), (1, 3)]\n",
      "[(0, 1), (2, 4), (2, 3), (0, 2), (1, 3)]\n",
      "[(2, 4), (4,), (3,), (0,), (1, 3)]\n",
      "[(0, 1), (2, 4), (4,), (0,), (1, 3)]\n",
      "[(0, 1), (2, 4), (4,), (0,), (1, 3)]\n",
      "[(0, 1), (2, 4), (4,), (3,), (0,), (1, 3)]\n",
      "[(0, 1), (2, 4), (4,), (3,), (0,), (1, 3)]\n",
      "[(0, 1), (2, 4), (2, 3), (3,), (0,), (1, 3)]\n"
     ]
    }
   ],
   "source": [
    "print(f\"population: {len(population)}\")\n",
    "for _ in population:\n",
    "    print(f\"{_}\")"
   ]
  }
 ],
 "metadata": {
  "kernelspec": {
   "display_name": "Python 3.10.0 ('ci22-8VIwGAvU-py3.10')",
   "language": "python",
   "name": "python3"
  },
  "language_info": {
   "codemirror_mode": {
    "name": "ipython",
    "version": 3
   },
   "file_extension": ".py",
   "mimetype": "text/x-python",
   "name": "python",
   "nbconvert_exporter": "python",
   "pygments_lexer": "ipython3",
   "version": "3.10.0"
  },
  "orig_nbformat": 4,
  "vscode": {
   "interpreter": {
    "hash": "9c0b5ebbcc54db0eea4215a72b49a4750117c977bb82fac66e9d6a0397f1ffaa"
   }
  }
 },
 "nbformat": 4,
 "nbformat_minor": 2
}
