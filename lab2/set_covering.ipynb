{
 "cells": [
  {
   "cell_type": "markdown",
   "metadata": {},
   "source": [
    "# Set-covering using Genetic Algorithm\n"
   ]
  },
  {
   "cell_type": "code",
   "execution_count": 17,
   "metadata": {},
   "outputs": [],
   "source": [
    "import logging\n",
    "import random\n",
    "# from matplotlib import pyplot as plt\n",
    "from functools import reduce\n",
    "import math\n"
   ]
  },
  {
   "cell_type": "code",
   "execution_count": 18,
   "metadata": {},
   "outputs": [],
   "source": [
    "logging.getLogger().setLevel(logging.DEBUG)"
   ]
  },
  {
   "cell_type": "code",
   "execution_count": 19,
   "metadata": {},
   "outputs": [],
   "source": [
    "N = 500\n",
    "POPULATION_SIZE = 2*N\n",
    "NUM_GENERATIONS = 200\n",
    "OFFSPRING_SIZE = math.ceil(1.5*N)"
   ]
  },
  {
   "cell_type": "markdown",
   "metadata": {},
   "source": [
    "### Problem definition\n"
   ]
  },
  {
   "cell_type": "code",
   "execution_count": 20,
   "metadata": {},
   "outputs": [],
   "source": [
    "def problem(N, seed=None):\n",
    "    random.seed(seed)\n",
    "    return [\n",
    "        list(set(random.randint(0, N - 1) for n in range(random.randint(N // 5, N // 2))))\n",
    "        for n in range(random.randint(N, N * 5))\n",
    "    ]\n"
   ]
  },
  {
   "cell_type": "markdown",
   "metadata": {},
   "source": [
    "### Genetic operators and definition"
   ]
  },
  {
   "cell_type": "code",
   "execution_count": 21,
   "metadata": {},
   "outputs": [],
   "source": [
    "\n",
    "class Individual:\n",
    "    def __init__(self, problem, genome=None):\n",
    "        if genome is None:\n",
    "            self.genome = tuple([0]*len(problem))\n",
    "        else:\n",
    "            self.genome = genome\n",
    "        self.problem = problem\n",
    "        self.fitness = self.compute_fitness()        \n",
    "\n",
    "    def __str__(self):\n",
    "        return str([x for gene, x in zip(self.genome, self.problem) if gene == 1])\n",
    "\n",
    "    def is_goal(self):\n",
    "        return self.covered() == N\n",
    "\n",
    "    def weight(self):\n",
    "        return sum((len(el) for gene, el in zip(self.genome, self.problem) if gene == 1))\n",
    "    \n",
    "    def covered(self):\n",
    "        sol = (element for gene, element in zip(self.genome, self.problem) if gene == 1)\n",
    "        return len( reduce(lambda a, b: set(a) | set(b), sol, set()) )\n",
    "\n",
    "    def compute_fitness(self):\n",
    "        # covered number / weight of the solution + bonus if it is a goal solution\n",
    "        # return 0.3*self.covered() - 0.1*self.weight() #+ N*self.is_goal()\n",
    "        return (self.covered(), -self.weight())"
   ]
  },
  {
   "cell_type": "markdown",
   "metadata": {},
   "source": [
    "#### Genetic operators\n"
   ]
  },
  {
   "cell_type": "code",
   "execution_count": 22,
   "metadata": {},
   "outputs": [],
   "source": [
    "def crossover(g1, g2):\n",
    "    cut_point = random.randint(0, len(g1))\n",
    "    return g1[:cut_point] + g2[cut_point:]\n",
    "\n",
    "def mutation(g):\n",
    "    mutation_point = random.randint(0, len(g) - 1)\n",
    "    return g[:mutation_point] + (1 - g[mutation_point],) + g[mutation_point + 1:]\n",
    "\n",
    "def tournament(population, tournament_size=2):\n",
    "    return max(random.choices(population, k=tournament_size), key=lambda i: i.fitness)\n",
    "\n"
   ]
  },
  {
   "cell_type": "markdown",
   "metadata": {},
   "source": [
    "## Genetic algorithm"
   ]
  },
  {
   "cell_type": "markdown",
   "metadata": {},
   "source": [
    "### Initial Population\n"
   ]
  },
  {
   "cell_type": "code",
   "execution_count": 23,
   "metadata": {},
   "outputs": [],
   "source": [
    "all_states = list(set([tuple(x) for x in problem(N, seed=42)]))\n",
    "\n",
    "# logging.debug(f\"All states: {all_states}\")\n",
    "#logging.debug(f\"All states: {all_states_b}\")\n",
    "\n",
    "population = [Individual(all_states) for _ in range(POPULATION_SIZE)]"
   ]
  },
  {
   "cell_type": "markdown",
   "metadata": {},
   "source": [
    "### Evolution"
   ]
  },
  {
   "cell_type": "code",
   "execution_count": 24,
   "metadata": {},
   "outputs": [
    {
     "name": "stderr",
     "output_type": "stream",
     "text": [
      "DEBUG:root:#1 fitness=(201, -201), w = 201\n",
      "DEBUG:root:#11 fitness=(500, -2066), w = 2066\n",
      "DEBUG:root:#21 fitness=(500, -1762), w = 1762\n",
      "DEBUG:root:#31 fitness=(500, -1632), w = 1632\n",
      "DEBUG:root:#41 fitness=(500, -1562), w = 1562\n",
      "DEBUG:root:#51 fitness=(500, -1557), w = 1557\n",
      "DEBUG:root:#61 fitness=(500, -1557), w = 1557\n",
      "DEBUG:root:#71 fitness=(500, -1557), w = 1557\n",
      "DEBUG:root:#81 fitness=(500, -1557), w = 1557\n",
      "DEBUG:root:#91 fitness=(500, -1557), w = 1557\n",
      "DEBUG:root:#101 fitness=(500, -1557), w = 1557\n",
      "DEBUG:root:#111 fitness=(500, -1557), w = 1557\n"
     ]
    },
    {
     "ename": "KeyboardInterrupt",
     "evalue": "",
     "output_type": "error",
     "traceback": [
      "\u001b[1;31m---------------------------------------------------------------------------\u001b[0m",
      "\u001b[1;31mKeyboardInterrupt\u001b[0m                         Traceback (most recent call last)",
      "Cell \u001b[1;32mIn [24], line 8\u001b[0m\n\u001b[0;32m      6\u001b[0m \u001b[39mif\u001b[39;00m random\u001b[39m.\u001b[39mrandom() \u001b[39m<\u001b[39m \u001b[39m0.3\u001b[39m:\n\u001b[0;32m      7\u001b[0m     p \u001b[39m=\u001b[39m tournament(population)\n\u001b[1;32m----> 8\u001b[0m     o \u001b[39m=\u001b[39m mutation(p\u001b[39m.\u001b[39;49mgenome)\n\u001b[0;32m      9\u001b[0m \u001b[39melse\u001b[39;00m:\n\u001b[0;32m     10\u001b[0m     p1 \u001b[39m=\u001b[39m tournament(population)\n",
      "Cell \u001b[1;32mIn [22], line 6\u001b[0m, in \u001b[0;36mmutation\u001b[1;34m(g)\u001b[0m\n\u001b[0;32m      5\u001b[0m \u001b[39mdef\u001b[39;00m \u001b[39mmutation\u001b[39m(g):\n\u001b[1;32m----> 6\u001b[0m     mutation_point \u001b[39m=\u001b[39m random\u001b[39m.\u001b[39;49mrandint(\u001b[39m0\u001b[39;49m, \u001b[39mlen\u001b[39;49m(g) \u001b[39m-\u001b[39;49m \u001b[39m1\u001b[39;49m)\n\u001b[0;32m      7\u001b[0m     \u001b[39mreturn\u001b[39;00m g[:mutation_point] \u001b[39m+\u001b[39m (\u001b[39m1\u001b[39m \u001b[39m-\u001b[39m g[mutation_point],) \u001b[39m+\u001b[39m g[mutation_point \u001b[39m+\u001b[39m \u001b[39m1\u001b[39m:]\n",
      "File \u001b[1;32m~\\AppData\\Local\\Programs\\Python\\Python310\\lib\\random.py:370\u001b[0m, in \u001b[0;36mRandom.randint\u001b[1;34m(self, a, b)\u001b[0m\n\u001b[0;32m    366\u001b[0m \u001b[39mdef\u001b[39;00m \u001b[39mrandint\u001b[39m(\u001b[39mself\u001b[39m, a, b):\n\u001b[0;32m    367\u001b[0m     \u001b[39m\"\"\"Return random integer in range [a, b], including both end points.\u001b[39;00m\n\u001b[0;32m    368\u001b[0m \u001b[39m    \"\"\"\u001b[39;00m\n\u001b[1;32m--> 370\u001b[0m     \u001b[39mreturn\u001b[39;00m \u001b[39mself\u001b[39;49m\u001b[39m.\u001b[39;49mrandrange(a, b\u001b[39m+\u001b[39;49m\u001b[39m1\u001b[39;49m)\n",
      "File \u001b[1;32m~\\AppData\\Local\\Programs\\Python\\Python310\\lib\\random.py:338\u001b[0m, in \u001b[0;36mRandom.randrange\u001b[1;34m(self, start, stop, step)\u001b[0m\n\u001b[0;32m    336\u001b[0m width \u001b[39m=\u001b[39m istop \u001b[39m-\u001b[39m istart\n\u001b[0;32m    337\u001b[0m \u001b[39mtry\u001b[39;00m:\n\u001b[1;32m--> 338\u001b[0m     istep \u001b[39m=\u001b[39m _index(step)\n\u001b[0;32m    339\u001b[0m \u001b[39mexcept\u001b[39;00m \u001b[39mTypeError\u001b[39;00m:\n\u001b[0;32m    340\u001b[0m     istep \u001b[39m=\u001b[39m \u001b[39mint\u001b[39m(step)\n",
      "\u001b[1;31mKeyboardInterrupt\u001b[0m: "
     ]
    }
   ],
   "source": [
    "LOG_FREQUENCY = 10\n",
    "\n",
    "for generation in range(NUM_GENERATIONS):\n",
    "    offspring = list()\n",
    "    for i in range(OFFSPRING_SIZE):\n",
    "        if random.random() < 0.3:\n",
    "            p = tournament(population)\n",
    "            o = mutation(p.genome)\n",
    "        else:\n",
    "            p1 = tournament(population)\n",
    "            p2 = tournament(population)\n",
    "            o = crossover(p1.genome, p2.genome)\n",
    "        offspring.append(Individual(all_states, o))\n",
    "    population += offspring\n",
    "    population = sorted(population, key=lambda i: i.fitness, reverse=True)[:POPULATION_SIZE]\n",
    "    best_one = population[0]\n",
    "    if (generation) % LOG_FREQUENCY == 0:\n",
    "        logging.debug(f\"#{generation + 1} fitness={best_one.fitness}, w = {best_one.weight()}\") \n",
    "    # if best_one.weight()/N < 1.5 and best_one.is_goal():\n",
    "    #     break\n"
   ]
  },
  {
   "cell_type": "code",
   "execution_count": 25,
   "metadata": {},
   "outputs": [
    {
     "name": "stdout",
     "output_type": "stream",
     "text": [
      "Number of Generation: 118\n",
      "#500 : weight: 1557, fitness = (500, -1557), sol=True\n"
     ]
    }
   ],
   "source": [
    "print(f\"Number of Generation: {generation+1}\")\n",
    "print(f\"#{N} : weight: {population[0].weight()}, fitness = {population[0].fitness}, sol={population[0].is_goal()}\")"
   ]
  }
 ],
 "metadata": {
  "kernelspec": {
   "display_name": "Python 3.10.0 ('ci22-8VIwGAvU-py3.10')",
   "language": "python",
   "name": "python3"
  },
  "language_info": {
   "codemirror_mode": {
    "name": "ipython",
    "version": 3
   },
   "file_extension": ".py",
   "mimetype": "text/x-python",
   "name": "python",
   "nbconvert_exporter": "python",
   "pygments_lexer": "ipython3",
   "version": "3.10.0"
  },
  "orig_nbformat": 4,
  "vscode": {
   "interpreter": {
    "hash": "9c0b5ebbcc54db0eea4215a72b49a4750117c977bb82fac66e9d6a0397f1ffaa"
   }
  }
 },
 "nbformat": 4,
 "nbformat_minor": 2
}
