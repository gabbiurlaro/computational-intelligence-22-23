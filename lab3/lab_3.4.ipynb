{
 "cells": [
  {
   "cell_type": "code",
   "execution_count": 41,
   "metadata": {},
   "outputs": [],
   "source": [
    "import logging\n",
    "import random\n",
    "from typing import Callable\n",
    "from copy import deepcopy\n",
    "from itertools import accumulate\n",
    "from operator import xor\n",
    "from matplotlib import pyplot as plt\n",
    "import numpy as np\n",
    "import math\n",
    "import json\n",
    "import os\n",
    "from copy import deepcopy, copy\n",
    "from nim_utils import *\n",
    "\n",
    "logging.basicConfig(\n",
    "    format=\"[%(asctime)s] %(levelname)s: %(message)s\",\n",
    "    datefmt=\"%H:%M:%S\",\n",
    "    level=logging.INFO,\n",
    ")"
   ]
  },
  {
   "cell_type": "code",
   "execution_count": 42,
   "metadata": {},
   "outputs": [],
   "source": [
    "class Agent():\n",
    "    def __init__(self, nim, alpha = 0.1, random_factor = 0.2) -> None:\n",
    "        self.state_history = []\n",
    "        self.alpha = alpha\n",
    "        self.random_factor = random_factor\n",
    "        # Q table, initially empty\n",
    "        self.Q = {}\n",
    "        self.init_q(nim)\n",
    "\n",
    "    def init_q(self, nim) -> dict:\n",
    "        result = []\n",
    "        def generate_states(rows, current_state):\n",
    "            if len(current_state) == len(rows):\n",
    "                # We have generated a valid state \n",
    "                result.append(current_state)\n",
    "                return\n",
    "            # Generate all possible states for the current row\n",
    "            for i in range(rows[len(current_state)] + 1):\n",
    "                new_state = current_state + [i]\n",
    "                generate_states(rows, new_state)\n",
    "        \n",
    "        generate_states(nim.rows, [])\n",
    "        for state in result:\n",
    "            x = Nim(len(nim.rows), state=state)\n",
    "            for action in x.possible_moves():\n",
    "                self.Q[(x, action)] = np.random.uniform(low=1.0, high=0.1)     \n",
    "\n",
    "    def choose_action(self, state) -> Nimply:\n",
    "        maxG = -10e15\n",
    "        next_move = None\n",
    "        possible_moves = state.possible_moves()\n",
    "        if np.random.random() < self.random_factor:\n",
    "            next_move = random.choice(possible_moves) \n",
    "        else:\n",
    "            for action in possible_moves:\n",
    "                # print(f\"Check {new_state}\")\n",
    "                if self.Q[(state, action)] >= maxG:\n",
    "                    next_move = action\n",
    "                    maxG = self.Q[(state, action)]\n",
    "        return next_move\n",
    "\n",
    "    def update_state_history(self, state, action,  reward):\n",
    "        self.state_history.append(((state, action), reward))\n",
    "\n",
    "    def learn(self):\n",
    "        target = 0\n",
    "        for prev, reward in reversed(self.state_history):\n",
    "            state, action = prev\n",
    "            # print(f\"{state} {action}\")\n",
    "            self.Q[prev] = self.Q[prev] + self.alpha * (target - self.Q[prev])\n",
    "            target += reward\n",
    "        self.state_history = []\n",
    "        self.random_factor -= 10e-5  # decrease random factor each episode of play\n",
    "\n",
    "    def get_strategy(self) -> Callable:\n",
    "        def agent_strategy(state: Nim) -> Nimply:\n",
    "            action = self.choose_action(state)\n",
    "            # print(f\"Choosen action: {action}\")\n",
    "            return Nimply(action[0], action[1])\n",
    "        return agent_strategy"
   ]
  },
  {
   "attachments": {},
   "cell_type": "markdown",
   "metadata": {},
   "source": [
    "### Reinforcement learning strategies\n"
   ]
  },
  {
   "cell_type": "code",
   "execution_count": 43,
   "metadata": {},
   "outputs": [],
   "source": [
    "# Costants\n",
    "NUM_EPOCHS = 5000\n",
    "EVALUATION_RATE = 100\n",
    "NIM_SIZE = 5\n",
    "MASK = [0, 0, 0, 1]\n",
    "POSSIBLE_OPPONENTS = [gabriele, pure_random, aggressive, optimal_strategy]\n",
    "OPPONENTS = [el for sublist in [alpha*[opponent] for alpha, opponent in zip(MASK, POSSIBLE_OPPONENTS)] for el in sublist]"
   ]
  },
  {
   "cell_type": "code",
   "execution_count": 44,
   "metadata": {},
   "outputs": [],
   "source": [
    "# Create the agent and the game\n",
    "game = Nim(NIM_SIZE)\n",
    "agent = Agent(game)"
   ]
  },
  {
   "cell_type": "code",
   "execution_count": 45,
   "metadata": {},
   "outputs": [
    {
     "name": "stdout",
     "output_type": "stream",
     "text": [
      "I have generated 28247 states-action pair.\n"
     ]
    }
   ],
   "source": [
    "print(f\"I have generated {len(agent.Q)} states-action pair.\")\n",
    "# for state in agent.Q:\n",
    "#     print(f\"{state[0]}, {state[1]}: {agent.Q[state]}\")"
   ]
  },
  {
   "cell_type": "code",
   "execution_count": 46,
   "metadata": {},
   "outputs": [
    {
     "name": "stdout",
     "output_type": "stream",
     "text": [
      "#0: 0.0\n",
      "#100: 0.0\n",
      "#200: 0.0\n",
      "#300: 0.0\n",
      "#400: 0.0\n",
      "#500: 0.0\n",
      "#600: 0.08\n",
      "#700: 0.05\n",
      "#800: 0.0\n",
      "#900: 0.0\n",
      "#1000: 0.03\n",
      "#1100: 0.04\n",
      "#1200: 0.05\n",
      "#1300: 0.06\n",
      "#1400: 0.03\n",
      "#1500: 0.12\n",
      "#1600: 0.05\n",
      "#1700: 0.06\n",
      "#1800: 0.08\n",
      "#1900: 0.08\n",
      "#2000: 0.14\n",
      "#2100: 0.13\n",
      "#2200: 0.02\n",
      "#2300: 0.06\n",
      "#2400: 0.11\n",
      "#2500: 0.08\n",
      "#2600: 0.24\n",
      "#2700: 0.17\n",
      "#2800: 0.25\n",
      "#2900: 0.23\n",
      "#3000: 0.34\n",
      "#3100: 0.38\n",
      "#3200: 0.32\n",
      "#3300: 0.41\n",
      "#3400: 0.4\n",
      "#3500: 0.45\n",
      "#3600: 0.47\n",
      "#3700: 0.49\n",
      "#3800: 0.46\n",
      "#3900: 0.47\n",
      "#4000: 0.45\n",
      "#4100: 0.43\n",
      "#4200: 0.43\n",
      "#4300: 0.34\n",
      "#4400: 0.43\n",
      "#4500: 0.42\n",
      "#4600: 0.49\n",
      "#4700: 0.4\n",
      "#4800: 0.45\n",
      "#4900: 0.44\n"
     ]
    }
   ],
   "source": [
    "scores = []\n",
    "\n",
    "for i in range(NUM_EPOCHS):\n",
    "    # logging.debug(f\"Starting the game #{i}\")\n",
    "    current_game = Nim(NIM_SIZE)\n",
    "    opponent = optimal_strategy\n",
    "    turn = True\n",
    "    while current_game:\n",
    "        if turn:\n",
    "            state, _ = current_game.get_state_and_reward(turn)\n",
    "            # my agent turn\n",
    "            action = agent.choose_action(current_game)\n",
    "            # print(f\"Action: {action}\")\n",
    "            current_game.nimming(action)\n",
    "            _, reward = current_game.get_state_and_reward(turn)\n",
    "            # print(f\"{state} -> {reward}\")\n",
    "            agent.update_state_history(state, action, reward)\n",
    "        else:\n",
    "            action = opponent(current_game)\n",
    "            current_game.nimming(action)\n",
    "        turn = not turn\n",
    "    winner = int(turn)\n",
    "    # logging.debug(f\"The game ended. Player {winner} wins\")\n",
    "    agent.learn()\n",
    "    if i % EVALUATION_RATE == 0:\n",
    "        score = evaluate_against(agent.get_strategy(), opponent, NIM_SIZE=NIM_SIZE)\n",
    "        scores.append(score)\n",
    "        print(f\"#{i}: {score}\")"
   ]
  },
  {
   "cell_type": "code",
   "execution_count": 47,
   "metadata": {},
   "outputs": [
    {
     "data": {
      "image/png": "[encoded data removed]",
      "text/plain": [
       "<Figure size 640x480 with 1 Axes>"
      ]
     },
     "metadata": {},
     "output_type": "display_data"
    }
   ],
   "source": [
    "plt.plot(range(len(scores)), scores)\n",
    "plt.show()"
   ]
  },
  {
   "attachments": {},
   "cell_type": "markdown",
   "metadata": {},
   "source": [
    "### Evaluation"
   ]
  },
  {
   "cell_type": "code",
   "execution_count": 50,
   "metadata": {},
   "outputs": [
    {
     "name": "stdout",
     "output_type": "stream",
     "text": [
      "rl vs. gabriele: 0.0\n",
      "rl vs. pure_random: 0.69\n",
      "rl vs. aggressive: 0.82\n",
      "rl vs. optimal_strategy: 0.47\n"
     ]
    }
   ],
   "source": [
    "rl_strategy = agent.get_strategy()\n",
    "OPPONENTS = [gabriele, pure_random, aggressive, optimal_strategy]\n",
    "\n",
    "scores = [(opponent.__name__, evaluate_against(rl_strategy, opponent, NIM_SIZE=NIM_SIZE)) for opponent in OPPONENTS]\n",
    "\n",
    "for opponent, score in scores:\n",
    "    print(f\"rl vs. {opponent}: {score}\") "
   ]
  }
 ],
 "metadata": {
  "kernelspec": {
   "display_name": "Python 3.10.0 ('ci22-8VIwGAvU-py3.10')",
   "language": "python",
   "name": "python3"
  },
  "language_info": {
   "codemirror_mode": {
    "name": "ipython",
    "version": 3
   },
   "file_extension": ".py",
   "mimetype": "text/x-python",
   "name": "python",
   "nbconvert_exporter": "python",
   "pygments_lexer": "ipython3",
   "version": "3.10.0 (tags/v3.10.0:b494f59, Oct  4 2021, 19:00:18) [MSC v.1929 64 bit (AMD64)]"
  },
  "orig_nbformat": 4,
  "vscode": {
   "interpreter": {
    "hash": "9c0b5ebbcc54db0eea4215a72b49a4750117c977bb82fac66e9d6a0397f1ffaa"
   }
  }
 },
 "nbformat": 4,
 "nbformat_minor": 2
}
