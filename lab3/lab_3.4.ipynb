{
 "cells": [
  {
   "cell_type": "code",
   "execution_count": 37,
   "metadata": {},
   "outputs": [],
   "source": [
    "import logging\n",
    "from collections import namedtuple\n",
    "import random\n",
    "from typing import Callable\n",
    "from copy import deepcopy\n",
    "from itertools import accumulate\n",
    "from operator import xor\n",
    "from matplotlib import pyplot as plt\n",
    "import numpy as np\n",
    "import math\n",
    "import json\n",
    "import os\n",
    "from copy import deepcopy, copy\n",
    "from collections import Counter\n",
    "\n",
    "\n",
    "logging.basicConfig(\n",
    "    format=\"[%(asctime)s] %(levelname)s: %(message)s\",\n",
    "    datefmt=\"%H:%M:%S\",\n",
    "    level=logging.INFO,\n",
    ")"
   ]
  },
  {
   "cell_type": "code",
   "execution_count": 38,
   "metadata": {},
   "outputs": [],
   "source": [
    "Nimply = namedtuple(\"Nimply\", \"row, num_objects\")"
   ]
  },
  {
   "cell_type": "code",
   "execution_count": 39,
   "metadata": {},
   "outputs": [],
   "source": [
    "class Nim:\n",
    "    def __init__(self, num_rows: int, k: int = None, state = None) -> None:\n",
    "        if state:\n",
    "            self._rows = state\n",
    "        else:\n",
    "            self._rows = [i * 2 + 1 for i in range(num_rows)]\n",
    "            self._k = k\n",
    "            self._sticks = sum(self._rows)\n",
    "\n",
    "    def __bool__(self):\n",
    "        return sum(self._rows) > 0\n",
    "\n",
    "    def __str__(self):\n",
    "        return \"<\" + \" \".join(str(_) for _ in self._rows) + \">\"\n",
    "\n",
    "    def __eq__(self, __o: object) -> bool:\n",
    "        # return self._sticks == __o._sticks\n",
    "        c = Counter(self._rows)\n",
    "        del c[0]       \n",
    "        c1 = Counter(__o._rows)\n",
    "        del c1[0]\n",
    "        return c == c1\n",
    "        \n",
    "    def __hash__(self) -> int:\n",
    "        c = Counter(self._rows)\n",
    "        del c[0]\n",
    "        return hash(c.__str__())\n",
    "        \n",
    "    @property\n",
    "    def rows(self) -> tuple:\n",
    "        return tuple(self._rows)\n",
    "\n",
    "    @property\n",
    "    def k(self) -> int:\n",
    "        return self._k\n",
    "\n",
    "    @property\n",
    "    def sticks(self) -> int:\n",
    "        return self._sticks\n",
    "\n",
    "    def nimming(self, ply: Nimply) -> None:\n",
    "        row, num_objects = ply\n",
    "        assert self._rows[row] >= num_objects\n",
    "        assert self._k is None or num_objects <= self._k\n",
    "        self._rows[row] -= num_objects\n",
    "\n",
    "    # -1 if I don't win, 0 if I make the last winnning move\n",
    "    def give_reward(self) -> int:\n",
    "        return -1 * int(self.__bool__())\n",
    "\n",
    "    def get_state_and_reward(self):\n",
    "        return self, self.give_reward()\n",
    "         "
   ]
  },
  {
   "cell_type": "code",
   "execution_count": 40,
   "metadata": {},
   "outputs": [],
   "source": [
    "def nim_sum(state: Nim) -> int:\n",
    "    *_, result = accumulate(state.rows, xor)\n",
    "    return result\n",
    "\n",
    "\n",
    "def cook_status(state: Nim, complete=False) -> dict:\n",
    "    cooked = dict()\n",
    "    cooked[\"possible_moves\"] = [\n",
    "        (r, o) for r, c in enumerate(state.rows) for o in range(1, c + 1) if state.k is None or o <= state.k\n",
    "    ]\n",
    "    cooked[\"active_rows_number\"] = sum(o > 0 for o in state.rows)\n",
    "    cooked[\"shortest_row\"] = min((x for x in enumerate(state.rows) if x[1] > 0), key=lambda y: y[1])[0]\n",
    "    cooked[\"longest_row\"] = max((x for x in enumerate(state.rows)), key=lambda y: y[1])[0]\n",
    "    cooked[\"completation\"] = sum(state.rows)/state.sticks\n",
    "    if complete:\n",
    "        brute_force = list()\n",
    "        cooked[\"nim_sum\"] = nim_sum(state)\n",
    "        for m in cooked[\"possible_moves\"]:\n",
    "            tmp = deepcopy(state)\n",
    "            tmp.nimming(m)\n",
    "            brute_force.append((m, nim_sum(tmp)))\n",
    "        cooked[\"brute_force\"] = brute_force\n",
    "    return cooked"
   ]
  },
  {
   "cell_type": "code",
   "execution_count": 41,
   "metadata": {},
   "outputs": [],
   "source": [
    "def optimal_strategy(state: Nim) -> Nimply:\n",
    "    data = cook_status(state, complete = True)\n",
    "    return next((bf for bf in data[\"brute_force\"] if bf[1] == 0), random.choice(data[\"brute_force\"]))[0]\n"
   ]
  },
  {
   "cell_type": "code",
   "execution_count": 42,
   "metadata": {},
   "outputs": [],
   "source": [
    "def aggressive(state: Nim) -> Nimply:\n",
    "    \"\"\"Pick always the entire row if the number of active rows is odd\"\"\"\n",
    "    data = cook_status(state)\n",
    "    if data['active_rows_number'] % 2 == 0:\n",
    "        # random move\n",
    "        row, num_objects = random.choice(data['possible_moves'])\n",
    "    else:\n",
    "        # aggressive move\n",
    "        row = data['longest_row']\n",
    "        num_objects = state.rows[row]\n",
    "    return Nimply(row, num_objects)"
   ]
  },
  {
   "cell_type": "code",
   "execution_count": 43,
   "metadata": {},
   "outputs": [],
   "source": [
    "def pure_random(state: Nim) -> Nimply:\n",
    "    row = random.choice([r for r, c in enumerate(state.rows) if c > 0])\n",
    "    num_objects = random.randint(1, state.rows[row])\n",
    "    return Nimply(row, num_objects)"
   ]
  },
  {
   "cell_type": "code",
   "execution_count": 44,
   "metadata": {},
   "outputs": [],
   "source": [
    "class Agent():\n",
    "    def __init__(self, nim, alpha = 0.1, random_factor = 0.2) -> None:\n",
    "        self.state_history = []\n",
    "        self.alpha = alpha\n",
    "        self.random_factor = random_factor\n",
    "        self.G = {}\n",
    "        self.init_reward(nim)\n",
    "\n",
    "    def init_reward(self, nim) -> dict:\n",
    "        result = []\n",
    "        def generate_states(rows, current_state):\n",
    "            if len(current_state) == len(rows):\n",
    "                # We have generated a valid state \n",
    "                result.append(current_state)\n",
    "                return\n",
    "            # Generate all possible states for the current row\n",
    "            for i in range(rows[len(current_state)] + 1):\n",
    "                new_state = current_state + [i]\n",
    "                generate_states(rows, new_state)\n",
    "        \n",
    "        generate_states(nim.rows, [])\n",
    "        for state in result:\n",
    "            self.G[Nim(NIM_SIZE_learn, state=state)] = np.random.uniform(low=1.0, high=0.1)     \n",
    "\n",
    "    def choose_action(self, state) -> Nimply:\n",
    "        maxG = -10e15\n",
    "        next_move = None\n",
    "        possible_moves = [(r, o) for r, c in enumerate(state.rows) for o in range(1, c + 1)]\n",
    "        if np.random.random() < self.random_factor:\n",
    "            next_move = random.choice(possible_moves) \n",
    "        else:\n",
    "            for action in possible_moves:\n",
    "                # print(f\"Action: {action}\")\n",
    "                new_state = deepcopy(state)\n",
    "                new_state.nimming(action)\n",
    "                # print(f\"Check {new_state}\")\n",
    "                if self.G[new_state] >= maxG:\n",
    "                    next_move = action\n",
    "                    maxG = self.G[new_state]\n",
    "        return next_move\n",
    "\n",
    "    def update_state_history(self, state, reward):\n",
    "        self.state_history.append((state, reward))\n",
    "\n",
    "    def learn(self):\n",
    "        # target = 0\n",
    "        for prev, reward in reversed(self.state_history):\n",
    "            self.G[prev] = (1 - self.alpha)*self.G[prev] + self.alpha * (reward - self.G[prev])\n",
    "            # target += reward\n",
    "        self.state_history = []\n",
    "        self.random_factor -= 10e-5  # decrease random factor each episode of play\n",
    "\n",
    "    def get_strategy(self) -> Callable:\n",
    "        def agent_strategy(state: Nim) -> Nimply:\n",
    "            action = self.choose_action(state)\n",
    "            # print(f\"Choosen action: {action}\")\n",
    "            return Nimply(action[0], action[1])\n",
    "        return agent_strategy"
   ]
  },
  {
   "attachments": {},
   "cell_type": "markdown",
   "metadata": {},
   "source": [
    "### Reinforcement learning strategies\n"
   ]
  },
  {
   "cell_type": "code",
   "execution_count": 50,
   "metadata": {},
   "outputs": [],
   "source": [
    "# Costants\n",
    "NUM_EPOCHS = 15000\n",
    "NIM_SIZE_learn = 7\n",
    "OPPONENTS = [aggressive] * 10 + [optimal_strategy]\n",
    "\n",
    "# Create the agent\n",
    "game = Nim(NIM_SIZE_learn)\n",
    "agent = Agent(game, alpha=0.15, random_factor=.2)\n",
    "\n",
    "states = agent.G"
   ]
  },
  {
   "cell_type": "code",
   "execution_count": 51,
   "metadata": {},
   "outputs": [],
   "source": [
    "# for state in states:\n",
    "#     print(f\"{state}: {states[state]}\")\n",
    "win_logs = []\n",
    "for i in range(NUM_EPOCHS):\n",
    "    # logging.debug(f\"Starting the game #{i}\")\n",
    "    current_game = Nim(NIM_SIZE_learn)\n",
    "    turn = True\n",
    "    OPPONENT = random.choice(OPPONENTS)\n",
    "    while current_game:\n",
    "        if turn:\n",
    "            # my agent turn\n",
    "            action = agent.choose_action(current_game)\n",
    "            # print(f\"Action: {action}\")\n",
    "            current_game.nimming(action)\n",
    "            state, reward = current_game.get_state_and_reward()\n",
    "            # print(f\"{state} -> {reward}\")\n",
    "            agent.update_state_history(state, reward)\n",
    "        else:\n",
    "            action = OPPONENT(current_game)\n",
    "            current_game.nimming(action)\n",
    "        turn = not turn\n",
    "    winner = int(not turn)\n",
    "    win_logs.append(winner)\n",
    "    # logging.debug(f\"The game ended. Player {winner} wins\")\n",
    "    agent.learn()\n",
    "\n",
    "\n",
    "agent_strategy = agent.get_strategy()\n"
   ]
  },
  {
   "cell_type": "code",
   "execution_count": 47,
   "metadata": {},
   "outputs": [],
   "source": [
    "NUM_MATCHES = 100\n",
    "NIM_SIZE = 5\n",
    "\n",
    "def evaluate_against(strategy: Callable, against: Callable) -> float:\n",
    "    opponent = (strategy, against)\n",
    "    won = 0\n",
    "    for _ in range(NUM_MATCHES):\n",
    "        nim = Nim(NIM_SIZE)\n",
    "        player = 0\n",
    "        while nim:\n",
    "            # logging.debug(nim)\n",
    "            ply = opponent[player](nim)\n",
    "            nim.nimming(ply)\n",
    "            player = 1 - player\n",
    "        if player == 1: # winner is the zero\n",
    "            won += 1\n",
    "        # logging.debug(f\"player {1 - player} has won.\")\n",
    "    return won / NUM_MATCHES"
   ]
  },
  {
   "cell_type": "code",
   "execution_count": 48,
   "metadata": {},
   "outputs": [
    {
     "data": {
      "image/png": "[encoded data removed]",
      "text/plain": [
       "<Figure size 640x480 with 1 Axes>"
      ]
     },
     "metadata": {},
     "output_type": "display_data"
    }
   ],
   "source": [
    "plt.scatter(range(NUM_EPOCHS), win_logs, marker='o', linewidths=.2, edgecolors=None)\n",
    "plt.show()"
   ]
  },
  {
   "cell_type": "code",
   "execution_count": 49,
   "metadata": {},
   "outputs": [
    {
     "data": {
      "text/plain": [
       "0.0"
      ]
     },
     "execution_count": 49,
     "metadata": {},
     "output_type": "execute_result"
    }
   ],
   "source": [
    "evaluate_against(agent_strategy, optimal_strategy)"
   ]
  }
 ],
 "metadata": {
  "kernelspec": {
   "display_name": "Python 3.10.0 ('ci22-8VIwGAvU-py3.10')",
   "language": "python",
   "name": "python3"
  },
  "language_info": {
   "codemirror_mode": {
    "name": "ipython",
    "version": 3
   },
   "file_extension": ".py",
   "mimetype": "text/x-python",
   "name": "python",
   "nbconvert_exporter": "python",
   "pygments_lexer": "ipython3",
   "version": "3.10.0"
  },
  "orig_nbformat": 4,
  "vscode": {
   "interpreter": {
    "hash": "9c0b5ebbcc54db0eea4215a72b49a4750117c977bb82fac66e9d6a0397f1ffaa"
   }
  }
 },
 "nbformat": 4,
 "nbformat_minor": 2
}
