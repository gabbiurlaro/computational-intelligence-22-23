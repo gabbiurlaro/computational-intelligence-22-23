{
 "cells": [
  {
   "cell_type": "code",
   "execution_count": 2,
   "metadata": {},
   "outputs": [],
   "source": [
    "import logging\n",
    "from collections import namedtuple\n",
    "import random\n",
    "from typing import Callable\n",
    "from copy import deepcopy\n",
    "from itertools import accumulate\n",
    "from operator import xor\n",
    "from matplotlib import pyplot as plt\n",
    "import numpy as np\n",
    "import math\n",
    "import json\n",
    "import os\n",
    "from copy import deepcopy, copy\n",
    "from collections import Counter\n",
    "\n",
    "\n",
    "logging.basicConfig(\n",
    "    format=\"[%(asctime)s] %(levelname)s: %(message)s\",\n",
    "    datefmt=\"%H:%M:%S\",\n",
    "    level=logging.DEBUG,\n",
    ")"
   ]
  },
  {
   "cell_type": "code",
   "execution_count": 3,
   "metadata": {},
   "outputs": [],
   "source": [
    "Nimply = namedtuple(\"Nimply\", \"row, num_objects\")"
   ]
  },
  {
   "cell_type": "code",
   "execution_count": 4,
   "metadata": {},
   "outputs": [],
   "source": [
    "class Nim:\n",
    "    def __init__(self, num_rows: int, k: int = None, state = None) -> None:\n",
    "        if state:\n",
    "            self._rows = state\n",
    "        else:\n",
    "            self._rows = [i * 2 + 1 for i in range(num_rows)]\n",
    "            self._k = k\n",
    "            self._sticks = sum(self._rows)\n",
    "\n",
    "    def __bool__(self):\n",
    "        return sum(self._rows) > 0\n",
    "\n",
    "    def __str__(self):\n",
    "        return \"<\" + \" \".join(str(_) for _ in self._rows) + \">\"\n",
    "\n",
    "    def __eq__(self, __o: object) -> bool:\n",
    "        # return self._sticks == __o._sticks\n",
    "        return Counter(self._rows) == Counter(__o._rows)\n",
    "        \n",
    "    def __hash__(self) -> int:\n",
    "        return hash(Counter(self._rows).__str__())\n",
    "        \n",
    "    @property\n",
    "    def rows(self) -> tuple:\n",
    "        return tuple(self._rows)\n",
    "\n",
    "    @property\n",
    "    def k(self) -> int:\n",
    "        return self._k\n",
    "\n",
    "    @property\n",
    "    def sticks(self) -> int:\n",
    "        return self._sticks\n",
    "\n",
    "    def nimming(self, ply: Nimply) -> None:\n",
    "        row, num_objects = ply\n",
    "        assert self._rows[row] >= num_objects\n",
    "        assert self._k is None or num_objects <= self._k\n",
    "        self._rows[row] -= num_objects\n",
    "\n",
    "    # -1 if I don't win, 0 if I make the last winnning move\n",
    "    def give_reward(self) -> int:\n",
    "        -1 * int(not self.__bool__())\n",
    "\n",
    "    def get_state_and_reward(self):\n",
    "        return self._rows, self.give_reward()\n",
    "         "
   ]
  },
  {
   "cell_type": "code",
   "execution_count": 5,
   "metadata": {},
   "outputs": [],
   "source": [
    "def nim_sum(state: Nim) -> int:\n",
    "    *_, result = accumulate(state.rows, xor)\n",
    "    return result\n",
    "\n",
    "\n",
    "def cook_status(state: Nim, complete=False) -> dict:\n",
    "    cooked = dict()\n",
    "    cooked[\"possible_moves\"] = [\n",
    "        (r, o) for r, c in enumerate(state.rows) for o in range(1, c + 1) if state.k is None or o <= state.k\n",
    "    ]\n",
    "    cooked[\"active_rows_number\"] = sum(o > 0 for o in state.rows)\n",
    "    cooked[\"shortest_row\"] = min((x for x in enumerate(state.rows) if x[1] > 0), key=lambda y: y[1])[0]\n",
    "    cooked[\"longest_row\"] = max((x for x in enumerate(state.rows)), key=lambda y: y[1])[0]\n",
    "    cooked[\"completation\"] = sum(state.rows)/state.sticks\n",
    "    if complete:\n",
    "        brute_force = list()\n",
    "        cooked[\"nim_sum\"] = nim_sum(state)\n",
    "        for m in cooked[\"possible_moves\"]:\n",
    "            tmp = deepcopy(state)\n",
    "            tmp.nimming(m)\n",
    "            brute_force.append((m, nim_sum(tmp)))\n",
    "        cooked[\"brute_force\"] = brute_force\n",
    "    return cooked"
   ]
  },
  {
   "cell_type": "code",
   "execution_count": 6,
   "metadata": {},
   "outputs": [],
   "source": [
    "def optimal_strategy(state: Nim) -> Nimply:\n",
    "    data = cook_status(state, complete = True)\n",
    "    return next((bf for bf in data[\"brute_force\"] if bf[1] == 0), random.choice(data[\"brute_force\"]))[0]\n"
   ]
  },
  {
   "cell_type": "code",
   "execution_count": 7,
   "metadata": {},
   "outputs": [],
   "source": [
    "def aggressive(state: Nim) -> Nimply:\n",
    "    \"\"\"Pick always the entire row if the number of active rows is odd\"\"\"\n",
    "    data = cook_status(state)\n",
    "    if data['active_rows_number'] % 2 == 0:\n",
    "        # random move\n",
    "        row, num_objects = random.choice(data['possible_moves'])\n",
    "    else:\n",
    "        # aggressive move\n",
    "        row = data['longest_row']\n",
    "        num_objects = state.rows[row]\n",
    "    return Nimply(row, num_objects)"
   ]
  },
  {
   "cell_type": "code",
   "execution_count": 8,
   "metadata": {},
   "outputs": [
    {
     "name": "stderr",
     "output_type": "stream",
     "text": [
      "[09:11:57] DEBUG: status: Initial board  -> <1 3 5 7>\n",
      "[09:11:57] DEBUG: 0: Nimply(row=3, num_objects=4)\n",
      "[09:11:57] DEBUG: status: After player 0 -> <1 3 5 3>\n",
      "[09:11:57] DEBUG: 1: (2, 4)\n",
      "[09:11:57] DEBUG: status: After player 1 -> <1 3 1 3>\n",
      "[09:11:57] DEBUG: 0: Nimply(row=1, num_objects=3)\n",
      "[09:11:57] DEBUG: status: After player 0 -> <1 0 1 3>\n",
      "[09:11:57] DEBUG: 1: (3, 3)\n",
      "[09:11:57] DEBUG: status: After player 1 -> <1 0 1 0>\n",
      "[09:11:57] DEBUG: 0: Nimply(row=2, num_objects=1)\n",
      "[09:11:57] DEBUG: status: After player 0 -> <1 0 0 0>\n",
      "[09:11:57] DEBUG: 1: (0, 1)\n",
      "[09:11:57] DEBUG: status: After player 1 -> <0 0 0 0>\n",
      "[09:11:57] INFO: status: Player 1 won!\n"
     ]
    }
   ],
   "source": [
    "strategy = (aggressive, optimal_strategy)\n",
    "\n",
    "nim = Nim(4)\n",
    "logging.debug(f\"status: Initial board  -> {nim}\")\n",
    "player = 0\n",
    "while nim:\n",
    "    ply = strategy[player](nim)\n",
    "    logging.debug(f\"{player}: {ply}\")\n",
    "    nim.nimming(ply)\n",
    "    logging.debug(f\"status: After player {player} -> {nim}\")\n",
    "    player = 1 - player\n",
    "winner = 1 - player\n",
    "logging.info(f\"status: Player {winner} won!\")"
   ]
  },
  {
   "cell_type": "code",
   "execution_count": 9,
   "metadata": {},
   "outputs": [],
   "source": [
    "class Agent():\n",
    "    def __init__(self, nim, alpha = 0.1, random_factor = 0.2) -> None:\n",
    "        self.G = {}\n",
    "        self.init_reward(nim)\n",
    "\n",
    "    def init_reward(self, nim) -> dict:\n",
    "        result = []\n",
    "        def generate_states(rows, current_state):\n",
    "            if len(current_state) == len(rows):\n",
    "                # We have generated a valid state \n",
    "                result.append(current_state)\n",
    "                return\n",
    "            # Generate all possible states for the current row\n",
    "            for i in range(rows[len(current_state)] + 1):\n",
    "                new_state = current_state + [i]\n",
    "                generate_states(rows, new_state)\n",
    "        \n",
    "        generate_states(nim.rows, [])\n",
    "        for state in result:\n",
    "            self.G[Nim(NIM_SIZE, state=state)] = np.random.uniform(low=1.0, high=0.1)            "
   ]
  },
  {
   "attachments": {},
   "cell_type": "markdown",
   "metadata": {},
   "source": [
    "### Reinforcement learning strategies\n"
   ]
  },
  {
   "cell_type": "code",
   "execution_count": 10,
   "metadata": {},
   "outputs": [],
   "source": [
    "# Costants\n",
    "NUM_EPOCHS = 0\n",
    "NIM_SIZE = 3\n",
    "OPPONENT = aggressive"
   ]
  },
  {
   "cell_type": "code",
   "execution_count": 12,
   "metadata": {},
   "outputs": [
    {
     "name": "stdout",
     "output_type": "stream",
     "text": [
      "40\n"
     ]
    }
   ],
   "source": [
    "# Create the agent\n",
    "game = Nim(NIM_SIZE)\n",
    "agent = Agent(game)\n",
    "\n",
    "print(len(agent.G))\n",
    "\n",
    "for i in range(NUM_EPOCHS):\n",
    "    logging.debug(f\"Starting the game #{i}\")\n",
    "    current_game = Nim(NIM_SIZE)\n",
    "    turn = True\n",
    "    while current_game:\n",
    "        if turn:\n",
    "            # my agent turn\n",
    "            state, _ = current_game.get_state_and_reward() # forse è inutile\n",
    "            action = agent.choose_action(current_game)\n",
    "            current_game.nimming(action)\n",
    "            state, reward = current_game.get_state_and_reward()\n",
    "            agent.update_history(state, reward)\n",
    "        else:\n",
    "            action = OPPONENT(current_game)\n",
    "            current_game.nimming(action)\n",
    "        turn = not turn\n",
    "    winner = int(not turn)\n",
    "    logging.debug(f\"The game ended. Player {winner} wins\")\n",
    "    agent.learn()\n",
    "\n",
    "\n"
   ]
  }
 ],
 "metadata": {
  "kernelspec": {
   "display_name": "Python 3.10.0 ('ci22-8VIwGAvU-py3.10')",
   "language": "python",
   "name": "python3"
  },
  "language_info": {
   "codemirror_mode": {
    "name": "ipython",
    "version": 3
   },
   "file_extension": ".py",
   "mimetype": "text/x-python",
   "name": "python",
   "nbconvert_exporter": "python",
   "pygments_lexer": "ipython3",
   "version": "3.10.0"
  },
  "orig_nbformat": 4,
  "vscode": {
   "interpreter": {
    "hash": "9c0b5ebbcc54db0eea4215a72b49a4750117c977bb82fac66e9d6a0397f1ffaa"
   }
  }
 },
 "nbformat": 4,
 "nbformat_minor": 2
}
