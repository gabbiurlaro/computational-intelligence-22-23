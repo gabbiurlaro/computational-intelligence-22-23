{
 "cells": [
  {
   "cell_type": "code",
   "execution_count": 91,
   "metadata": {},
   "outputs": [],
   "source": [
    "import logging\n",
    "from collections import namedtuple\n",
    "import random\n",
    "from typing import Callable\n",
    "from copy import deepcopy\n",
    "from itertools import accumulate\n",
    "from operator import xor\n",
    "from matplotlib import pyplot as plt\n",
    "import numpy as np\n",
    "import math\n",
    "import json\n",
    "import os\n",
    "from copy import deepcopy, copy\n",
    "\n",
    "\n",
    "logging.basicConfig(\n",
    "    format=\"[%(asctime)s] %(levelname)s: %(message)s\",\n",
    "    datefmt=\"%H:%M:%S\",\n",
    "    level=logging.INFO,\n",
    ")"
   ]
  },
  {
   "cell_type": "code",
   "execution_count": 92,
   "metadata": {},
   "outputs": [],
   "source": [
    "Nimply = namedtuple(\"Nimply\", \"row, num_objects\")"
   ]
  },
  {
   "cell_type": "code",
   "execution_count": 93,
   "metadata": {},
   "outputs": [],
   "source": [
    "class Nim:\n",
    "    def __init__(self, num_rows: int, k: int = None) -> None:\n",
    "        self._rows = [i * 2 + 1 for i in range(num_rows)]\n",
    "        self._k = k\n",
    "        self._sticks = sum(self._rows)\n",
    "\n",
    "    def __bool__(self):\n",
    "        return sum(self._rows) > 0\n",
    "\n",
    "    def __str__(self):\n",
    "        return \"<\" + \" \".join(str(_) for _ in self._rows) + \">\"\n",
    "\n",
    "    def __hash__(self) -> int:\n",
    "        return hash(tuple(self._rows))\n",
    "        \n",
    "    @property\n",
    "    def rows(self) -> tuple:\n",
    "        return tuple(self._rows)\n",
    "\n",
    "    @property\n",
    "    def k(self) -> int:\n",
    "        return self._k\n",
    "\n",
    "    @property\n",
    "    def sticks(self) -> int:\n",
    "        return self._sticks\n",
    "\n",
    "    def nimming(self, ply: Nimply) -> None:\n",
    "        row, num_objects = ply\n",
    "        assert self._rows[row] >= num_objects\n",
    "        assert self._k is None or num_objects <= self._k\n",
    "        self._rows[row] -= num_objects"
   ]
  },
  {
   "cell_type": "code",
   "execution_count": 94,
   "metadata": {},
   "outputs": [],
   "source": [
    "def evaluate_state(state: Nim, player: int) -> int:\n",
    "    if state:\n",
    "        return 0\n",
    "    else:\n",
    "        if player == 0:\n",
    "            return 1\n",
    "        else:\n",
    "            return -1"
   ]
  },
  {
   "cell_type": "code",
   "execution_count": 95,
   "metadata": {},
   "outputs": [],
   "source": [
    "def nim_sum(state: Nim) -> int:\n",
    "    *_, result = accumulate(state.rows, xor)\n",
    "    return result\n",
    "\n",
    "\n",
    "def cook_status(state: Nim, complete=False) -> dict:\n",
    "    cooked = dict()\n",
    "    cooked[\"possible_moves\"] = [\n",
    "        (r, o) for r, c in enumerate(state.rows) for o in range(1, c + 1) if state.k is None or o <= state.k\n",
    "    ]\n",
    "    cooked[\"active_rows_number\"] = sum(o > 0 for o in state.rows)\n",
    "    cooked[\"shortest_row\"] = min((x for x in enumerate(state.rows) if x[1] > 0), key=lambda y: y[1])[0]\n",
    "    cooked[\"longest_row\"] = max((x for x in enumerate(state.rows)), key=lambda y: y[1])[0]\n",
    "    cooked[\"completation\"] = sum(state.rows)/state.sticks\n",
    "    if complete:\n",
    "        brute_force = list()\n",
    "        cooked[\"nim_sum\"] = nim_sum(state)\n",
    "        for m in cooked[\"possible_moves\"]:\n",
    "            tmp = deepcopy(state)\n",
    "            tmp.nimming(m)\n",
    "            brute_force.append((m, nim_sum(tmp)))\n",
    "        cooked[\"brute_force\"] = brute_force\n",
    "    return cooked"
   ]
  },
  {
   "cell_type": "code",
   "execution_count": 96,
   "metadata": {},
   "outputs": [],
   "source": [
    "def optimal_strategy(state: Nim) -> Nimply:\n",
    "    data = cook_status(state, complete = True)\n",
    "    return next((bf for bf in data[\"brute_force\"] if bf[1] == 0), random.choice(data[\"brute_force\"]))[0]\n"
   ]
  },
  {
   "cell_type": "code",
   "execution_count": 97,
   "metadata": {},
   "outputs": [],
   "source": [
    "from functools import cache\n",
    "\n",
    "@cache\n",
    "def minmax(state: Nim, player: int) -> int:\n",
    "    value = evaluate_state(state, player)\n",
    "    # print(f\"Evaluating state {state}: {value}\")\n",
    "    if value != 0:\n",
    "        return None, value\n",
    "    else: \n",
    "        evaluations = list()\n",
    "        data = cook_status(state)\n",
    "        ps = data['possible_moves']\n",
    "        # print(f\"Possible moves: {ps}\")\n",
    "        for ply in ps:\n",
    "            new_nim = deepcopy(state)\n",
    "            # print(f\"Before: {new_nim}\")\n",
    "            new_nim.nimming(ply)\n",
    "            # print(f\"After: {new_nim}\")\n",
    "            _, val = minmax(new_nim, 1 - player)\n",
    "            evaluations.append((ply, val))\n",
    "    # print(f\"Final evaluations: {evaluations}\")\n",
    "    return ((max if player else min))(evaluations, key=lambda k: k[1])"
   ]
  },
  {
   "cell_type": "code",
   "execution_count": 98,
   "metadata": {},
   "outputs": [],
   "source": [
    "def aggressive(state: Nim) -> Nimply:\n",
    "    \"\"\"Pick always the entire row if the number of active rows is odd\"\"\"\n",
    "    data = cook_status(state)\n",
    "    if data['active_rows_number'] % 2 == 0:\n",
    "        # random move\n",
    "        row, num_objects = random.choice(data['possible_moves'])\n",
    "    else:\n",
    "        # aggressive move\n",
    "        row = data['longest_row']\n",
    "        num_objects = state.rows[row]\n",
    "    return Nimply(row, num_objects)"
   ]
  },
  {
   "cell_type": "code",
   "execution_count": 99,
   "metadata": {},
   "outputs": [],
   "source": [
    "def minmax_strategy(state: Nim) -> Nimply:\n",
    "    best_ply, eval = minmax(state, 0)\n",
    "    print(f\"{best_ply} -> {eval}\")\n",
    "    return Nimply(best_ply[0], best_ply[1])"
   ]
  },
  {
   "cell_type": "code",
   "execution_count": 100,
   "metadata": {},
   "outputs": [
    {
     "name": "stderr",
     "output_type": "stream",
     "text": [
      "[22:45:48] INFO: status: Initial board  -> <1 3 5>\n",
      "[22:45:48] INFO: 0: Nimply(row=2, num_objects=3)\n",
      "[22:45:48] INFO: status: After player 0 -> <1 3 2>\n",
      "[22:45:48] INFO: 1: (1, 1)\n",
      "[22:45:48] INFO: status: After player 1 -> <1 2 2>\n",
      "[22:45:49] INFO: 0: Nimply(row=0, num_objects=1)\n",
      "[22:45:49] INFO: status: After player 0 -> <0 2 2>\n",
      "[22:45:49] INFO: 1: (1, 2)\n",
      "[22:45:49] INFO: status: After player 1 -> <0 0 2>\n",
      "[22:45:49] INFO: 0: Nimply(row=2, num_objects=2)\n",
      "[22:45:49] INFO: status: After player 0 -> <0 0 0>\n",
      "[22:45:49] INFO: status: Player 0 won!\n"
     ]
    },
    {
     "name": "stdout",
     "output_type": "stream",
     "text": [
      "(2, 3) -> -1\n",
      "(0, 1) -> -1\n",
      "(2, 2) -> -1\n"
     ]
    }
   ],
   "source": [
    "strategy = (minmax_strategy, optimal_strategy)\n",
    "\n",
    "nim = Nim(3)\n",
    "logging.info(f\"status: Initial board  -> {nim}\")\n",
    "player = 0\n",
    "while nim:\n",
    "    ply = strategy[player](nim)\n",
    "    logging.info(f\"{player}: {ply}\")\n",
    "    nim.nimming(ply)\n",
    "    logging.info(f\"status: After player {player} -> {nim}\")\n",
    "    player = 1 - player\n",
    "winner = 1 - player\n",
    "logging.info(f\"status: Player {winner} won!\")"
   ]
  }
 ],
 "metadata": {
  "kernelspec": {
   "display_name": "Python 3.10.0 ('ci22-8VIwGAvU-py3.10')",
   "language": "python",
   "name": "python3"
  },
  "language_info": {
   "codemirror_mode": {
    "name": "ipython",
    "version": 3
   },
   "file_extension": ".py",
   "mimetype": "text/x-python",
   "name": "python",
   "nbconvert_exporter": "python",
   "pygments_lexer": "ipython3",
   "version": "3.10.0"
  },
  "orig_nbformat": 4,
  "vscode": {
   "interpreter": {
    "hash": "9c0b5ebbcc54db0eea4215a72b49a4750117c977bb82fac66e9d6a0397f1ffaa"
   }
  }
 },
 "nbformat": 4,
 "nbformat_minor": 2
}
