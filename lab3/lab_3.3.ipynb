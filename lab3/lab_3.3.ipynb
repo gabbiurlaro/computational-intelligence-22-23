{
 "cells": [
  {
   "cell_type": "code",
   "execution_count": 50,
   "metadata": {},
   "outputs": [],
   "source": [
    "import logging\n",
    "from collections import namedtuple\n",
    "import random\n",
    "from typing import Callable\n",
    "from copy import deepcopy\n",
    "from itertools import accumulate\n",
    "from operator import xor\n",
    "from matplotlib import pyplot as plt\n",
    "import numpy as np\n",
    "import math\n",
    "import json\n",
    "import os\n",
    "from copy import deepcopy, copy\n",
    "from collections import Counter\n",
    "\n",
    "logging.basicConfig(\n",
    "    format=\"[%(asctime)s] %(levelname)s: %(message)s\",\n",
    "    datefmt=\"%H:%M:%S\",\n",
    "    level=logging.INFO,\n",
    ")"
   ]
  },
  {
   "cell_type": "code",
   "execution_count": 51,
   "metadata": {},
   "outputs": [],
   "source": [
    "Nimply = namedtuple(\"Nimply\", \"row, num_objects\")"
   ]
  },
  {
   "cell_type": "code",
   "execution_count": 52,
   "metadata": {},
   "outputs": [],
   "source": [
    "class Nim:\n",
    "    def __init__(self, num_rows: int, k: int = None) -> None:\n",
    "        self._rows = [i * 2 + 1 for i in range(num_rows)]\n",
    "        self._k = k\n",
    "        self._sticks = sum(self._rows)\n",
    "\n",
    "    def __bool__(self):\n",
    "        return sum(self._rows) > 0\n",
    "\n",
    "    def __str__(self):\n",
    "        return \"<\" + \" \".join(str(_) for _ in self._rows) + \">\"\n",
    "\n",
    "    def __eq__(self, __o: object) -> bool:\n",
    "        return Counter(self._rows) == Counter(__o._rows)\n",
    "        \n",
    "    def __hash__(self) -> int:\n",
    "        return hash(tuple(self._rows))\n",
    "        \n",
    "    @property\n",
    "    def rows(self) -> tuple:\n",
    "        return tuple(self._rows)\n",
    "\n",
    "    @property\n",
    "    def k(self) -> int:\n",
    "        return self._k\n",
    "\n",
    "    @property\n",
    "    def sticks(self) -> int:\n",
    "        return self._sticks\n",
    "\n",
    "    def nimming(self, ply: Nimply) -> None:\n",
    "        row, num_objects = ply\n",
    "        assert self._rows[row] >= num_objects\n",
    "        assert self._k is None or num_objects <= self._k\n",
    "        self._rows[row] -= num_objects"
   ]
  },
  {
   "cell_type": "code",
   "execution_count": 53,
   "metadata": {},
   "outputs": [],
   "source": [
    "def evaluate_state(state: Nim, player: int) -> int:\n",
    "    if state:\n",
    "        return 0\n",
    "    else:\n",
    "        if player == 0:\n",
    "            return 1\n",
    "        else:\n",
    "            return -1"
   ]
  },
  {
   "cell_type": "code",
   "execution_count": 54,
   "metadata": {},
   "outputs": [],
   "source": [
    "def nim_sum(state: Nim) -> int:\n",
    "    *_, result = accumulate(state.rows, xor)\n",
    "    return result\n",
    "\n",
    "\n",
    "def cook_status(state: Nim, complete=False) -> dict:\n",
    "    cooked = dict()\n",
    "    cooked[\"possible_moves\"] = [\n",
    "        (r, o) for r, c in enumerate(state.rows) for o in range(1, c + 1) if state.k is None or o <= state.k\n",
    "    ]\n",
    "    cooked[\"active_rows_number\"] = sum(o > 0 for o in state.rows)\n",
    "    cooked[\"shortest_row\"] = min((x for x in enumerate(state.rows) if x[1] > 0), key=lambda y: y[1])[0]\n",
    "    cooked[\"longest_row\"] = max((x for x in enumerate(state.rows)), key=lambda y: y[1])[0]\n",
    "    cooked[\"completation\"] = sum(state.rows)/state.sticks\n",
    "    if complete:\n",
    "        brute_force = list()\n",
    "        cooked[\"nim_sum\"] = nim_sum(state)\n",
    "        for m in cooked[\"possible_moves\"]:\n",
    "            tmp = deepcopy(state)\n",
    "            tmp.nimming(m)\n",
    "            brute_force.append((m, nim_sum(tmp)))\n",
    "        cooked[\"brute_force\"] = brute_force\n",
    "    return cooked"
   ]
  },
  {
   "cell_type": "code",
   "execution_count": 55,
   "metadata": {},
   "outputs": [],
   "source": [
    "def optimal_strategy(state: Nim) -> Nimply:\n",
    "    data = cook_status(state, complete = True)\n",
    "    return next((bf for bf in data[\"brute_force\"] if bf[1] == 0), random.choice(data[\"brute_force\"]))[0]\n"
   ]
  },
  {
   "cell_type": "code",
   "execution_count": 56,
   "metadata": {},
   "outputs": [],
   "source": [
    "from functools import cache, lru_cache\n",
    "MAX_DEPTH = 30\n",
    "\n",
    "@lru_cache\n",
    "def minmax(current_depth: int, state: Nim, player: int, alpha = -1, beta = 1) -> int:\n",
    "    if MAX_DEPTH:\n",
    "        if current_depth > MAX_DEPTH:\n",
    "            return None, 0  \n",
    "    value = evaluate_state(state, player)\n",
    "    # print(f\"Evaluating state {state}: {value}\")\n",
    "    if value != 0:\n",
    "        return None, value\n",
    "    else: \n",
    "        evaluations = list()\n",
    "        data = cook_status(state)\n",
    "        ps = sorted(data['possible_moves'], key=lambda k: -state.rows[k[0]])\n",
    "        # print(f\"Possible moves: {ps}\")\n",
    "        for ply in ps:\n",
    "            new_nim = deepcopy(state)\n",
    "            # print(f\"Before: {new_nim}\")\n",
    "            new_nim.nimming(ply)\n",
    "            # print(f\"After: {new_nim}\")\n",
    "            _, val = minmax(current_depth + 1, new_nim, 1 - player, alpha, beta)\n",
    "            evaluations.append((ply, val))\n",
    "            if player:\n",
    "                alpha = max(alpha, val)\n",
    "            else:\n",
    "                beta = min(beta, val)\n",
    "            if beta <= alpha:\n",
    "                break\n",
    "    # print(f\"Final evaluations: {evaluations}\")\n",
    "    return (max if player else min)(evaluations, key=lambda k: k[1])"
   ]
  },
  {
   "cell_type": "code",
   "execution_count": 57,
   "metadata": {},
   "outputs": [],
   "source": [
    "def aggressive(state: Nim) -> Nimply:\n",
    "    \"\"\"Pick always the entire row if the number of active rows is odd\"\"\"\n",
    "    data = cook_status(state)\n",
    "    if data['active_rows_number'] % 2 == 0:\n",
    "        # random move\n",
    "        row, num_objects = random.choice(data['possible_moves'])\n",
    "    else:\n",
    "        # aggressive move\n",
    "        row = data['longest_row']\n",
    "        num_objects = state.rows[row]\n",
    "    return Nimply(row, num_objects)"
   ]
  },
  {
   "cell_type": "code",
   "execution_count": 58,
   "metadata": {},
   "outputs": [],
   "source": [
    "def minmax_strategy(state: Nim) -> Nimply:\n",
    "    best_ply, eval = minmax(0, state, 0)\n",
    "    # print(f\"{best_ply} -> {eval}\")\n",
    "    return Nimply(best_ply[0], best_ply[1])"
   ]
  },
  {
   "cell_type": "code",
   "execution_count": 59,
   "metadata": {},
   "outputs": [
    {
     "ename": "KeyboardInterrupt",
     "evalue": "",
     "output_type": "error",
     "traceback": [
      "\u001b[1;31m---------------------------------------------------------------------------\u001b[0m",
      "\u001b[1;31mKeyboardInterrupt\u001b[0m                         Traceback (most recent call last)",
      "Cell \u001b[1;32mIn [59], line 7\u001b[0m\n\u001b[0;32m      5\u001b[0m player \u001b[39m=\u001b[39m \u001b[39m0\u001b[39m\n\u001b[0;32m      6\u001b[0m \u001b[39mwhile\u001b[39;00m nim:\n\u001b[1;32m----> 7\u001b[0m     ply \u001b[39m=\u001b[39m strategy[player](nim)\n\u001b[0;32m      8\u001b[0m     logging\u001b[39m.\u001b[39mdebug(\u001b[39mf\u001b[39m\u001b[39m\"\u001b[39m\u001b[39m{\u001b[39;00mplayer\u001b[39m}\u001b[39;00m\u001b[39m: \u001b[39m\u001b[39m{\u001b[39;00mply\u001b[39m}\u001b[39;00m\u001b[39m\"\u001b[39m)\n\u001b[0;32m      9\u001b[0m     nim\u001b[39m.\u001b[39mnimming(ply)\n",
      "Cell \u001b[1;32mIn [58], line 2\u001b[0m, in \u001b[0;36mminmax_strategy\u001b[1;34m(state)\u001b[0m\n\u001b[0;32m      1\u001b[0m \u001b[39mdef\u001b[39;00m \u001b[39mminmax_strategy\u001b[39m(state: Nim) \u001b[39m-\u001b[39m\u001b[39m>\u001b[39m Nimply:\n\u001b[1;32m----> 2\u001b[0m     best_ply, \u001b[39meval\u001b[39m \u001b[39m=\u001b[39m minmax(\u001b[39m0\u001b[39;49m, state, \u001b[39m0\u001b[39;49m)\n\u001b[0;32m      3\u001b[0m     \u001b[39m# print(f\"{best_ply} -> {eval}\")\u001b[39;00m\n\u001b[0;32m      4\u001b[0m     \u001b[39mreturn\u001b[39;00m Nimply(best_ply[\u001b[39m0\u001b[39m], best_ply[\u001b[39m1\u001b[39m])\n",
      "Cell \u001b[1;32mIn [56], line 23\u001b[0m, in \u001b[0;36mminmax\u001b[1;34m(current_depth, state, player, alpha, beta)\u001b[0m\n\u001b[0;32m     21\u001b[0m new_nim\u001b[39m.\u001b[39mnimming(ply)\n\u001b[0;32m     22\u001b[0m \u001b[39m# print(f\"After: {new_nim}\")\u001b[39;00m\n\u001b[1;32m---> 23\u001b[0m _, val \u001b[39m=\u001b[39m minmax(current_depth \u001b[39m+\u001b[39;49m \u001b[39m1\u001b[39;49m, new_nim, \u001b[39m1\u001b[39;49m \u001b[39m-\u001b[39;49m player, alpha, beta)\n\u001b[0;32m     24\u001b[0m evaluations\u001b[39m.\u001b[39mappend((ply, val))\n\u001b[0;32m     25\u001b[0m \u001b[39mif\u001b[39;00m player:\n",
      "Cell \u001b[1;32mIn [56], line 23\u001b[0m, in \u001b[0;36mminmax\u001b[1;34m(current_depth, state, player, alpha, beta)\u001b[0m\n\u001b[0;32m     21\u001b[0m new_nim\u001b[39m.\u001b[39mnimming(ply)\n\u001b[0;32m     22\u001b[0m \u001b[39m# print(f\"After: {new_nim}\")\u001b[39;00m\n\u001b[1;32m---> 23\u001b[0m _, val \u001b[39m=\u001b[39m minmax(current_depth \u001b[39m+\u001b[39;49m \u001b[39m1\u001b[39;49m, new_nim, \u001b[39m1\u001b[39;49m \u001b[39m-\u001b[39;49m player, alpha, beta)\n\u001b[0;32m     24\u001b[0m evaluations\u001b[39m.\u001b[39mappend((ply, val))\n\u001b[0;32m     25\u001b[0m \u001b[39mif\u001b[39;00m player:\n",
      "    \u001b[1;31m[... skipping similar frames: minmax at line 23 (12 times)]\u001b[0m\n",
      "Cell \u001b[1;32mIn [56], line 23\u001b[0m, in \u001b[0;36mminmax\u001b[1;34m(current_depth, state, player, alpha, beta)\u001b[0m\n\u001b[0;32m     21\u001b[0m new_nim\u001b[39m.\u001b[39mnimming(ply)\n\u001b[0;32m     22\u001b[0m \u001b[39m# print(f\"After: {new_nim}\")\u001b[39;00m\n\u001b[1;32m---> 23\u001b[0m _, val \u001b[39m=\u001b[39m minmax(current_depth \u001b[39m+\u001b[39;49m \u001b[39m1\u001b[39;49m, new_nim, \u001b[39m1\u001b[39;49m \u001b[39m-\u001b[39;49m player, alpha, beta)\n\u001b[0;32m     24\u001b[0m evaluations\u001b[39m.\u001b[39mappend((ply, val))\n\u001b[0;32m     25\u001b[0m \u001b[39mif\u001b[39;00m player:\n",
      "Cell \u001b[1;32mIn [56], line 19\u001b[0m, in \u001b[0;36mminmax\u001b[1;34m(current_depth, state, player, alpha, beta)\u001b[0m\n\u001b[0;32m     17\u001b[0m \u001b[39m# print(f\"Possible moves: {ps}\")\u001b[39;00m\n\u001b[0;32m     18\u001b[0m \u001b[39mfor\u001b[39;00m ply \u001b[39min\u001b[39;00m ps:\n\u001b[1;32m---> 19\u001b[0m     new_nim \u001b[39m=\u001b[39m deepcopy(state)\n\u001b[0;32m     20\u001b[0m     \u001b[39m# print(f\"Before: {new_nim}\")\u001b[39;00m\n\u001b[0;32m     21\u001b[0m     new_nim\u001b[39m.\u001b[39mnimming(ply)\n",
      "File \u001b[1;32m~\\AppData\\Local\\Programs\\Python\\Python310\\lib\\copy.py:172\u001b[0m, in \u001b[0;36mdeepcopy\u001b[1;34m(x, memo, _nil)\u001b[0m\n\u001b[0;32m    170\u001b[0m                 y \u001b[39m=\u001b[39m x\n\u001b[0;32m    171\u001b[0m             \u001b[39melse\u001b[39;00m:\n\u001b[1;32m--> 172\u001b[0m                 y \u001b[39m=\u001b[39m _reconstruct(x, memo, \u001b[39m*\u001b[39;49mrv)\n\u001b[0;32m    174\u001b[0m \u001b[39m# If is its own copy, don't memoize.\u001b[39;00m\n\u001b[0;32m    175\u001b[0m \u001b[39mif\u001b[39;00m y \u001b[39mis\u001b[39;00m \u001b[39mnot\u001b[39;00m x:\n",
      "File \u001b[1;32m~\\AppData\\Local\\Programs\\Python\\Python310\\lib\\copy.py:275\u001b[0m, in \u001b[0;36m_reconstruct\u001b[1;34m(x, memo, func, args, state, listiter, dictiter, deepcopy)\u001b[0m\n\u001b[0;32m    273\u001b[0m     y\u001b[39m.\u001b[39m__setstate__(state)\n\u001b[0;32m    274\u001b[0m \u001b[39melse\u001b[39;00m:\n\u001b[1;32m--> 275\u001b[0m     \u001b[39mif\u001b[39;00m \u001b[39misinstance\u001b[39m(state, \u001b[39mtuple\u001b[39m) \u001b[39mand\u001b[39;00m \u001b[39mlen\u001b[39m(state) \u001b[39m==\u001b[39m \u001b[39m2\u001b[39m:\n\u001b[0;32m    276\u001b[0m         state, slotstate \u001b[39m=\u001b[39m state\n\u001b[0;32m    277\u001b[0m     \u001b[39melse\u001b[39;00m:\n",
      "\u001b[1;31mKeyboardInterrupt\u001b[0m: "
     ]
    }
   ],
   "source": [
    "strategy = (minmax_strategy, optimal_strategy)\n",
    "\n",
    "nim = Nim(5)\n",
    "logging.debug(f\"status: Initial board  -> {nim}\")\n",
    "player = 0\n",
    "while nim:\n",
    "    ply = strategy[player](nim)\n",
    "    logging.debug(f\"{player}: {ply}\")\n",
    "    nim.nimming(ply)\n",
    "    logging.debug(f\"status: After player {player} -> {nim}\")\n",
    "    player = 1 - player\n",
    "winner = 1 - player\n",
    "logging.info(f\"status: Player {winner} won!\")"
   ]
  }
 ],
 "metadata": {
  "kernelspec": {
   "display_name": "Python 3.10.0 ('ci22-8VIwGAvU-py3.10')",
   "language": "python",
   "name": "python3"
  },
  "language_info": {
   "codemirror_mode": {
    "name": "ipython",
    "version": 3
   },
   "file_extension": ".py",
   "mimetype": "text/x-python",
   "name": "python",
   "nbconvert_exporter": "python",
   "pygments_lexer": "ipython3",
   "version": "3.10.0"
  },
  "orig_nbformat": 4,
  "vscode": {
   "interpreter": {
    "hash": "9c0b5ebbcc54db0eea4215a72b49a4750117c977bb82fac66e9d6a0397f1ffaa"
   }
  }
 },
 "nbformat": 4,
 "nbformat_minor": 2
}
