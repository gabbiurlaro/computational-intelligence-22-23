{
 "cells": [
  {
   "cell_type": "markdown",
   "metadata": {
    "pycharm": {
     "name": "#%%\n"
    }
   },
   "source": [
    "# Lab 3: Policy Search\n",
    "\n",
    "## Task\n",
    "\n",
    "Write agents able to play [*Nim*](https://en.wikipedia.org/wiki/Nim), with an arbitrary number of rows and an upper bound $k$ on the number of objects that can be removed in a turn (a.k.a., *subtraction game*).\n",
    "\n",
    "The goal of the game is to **avoid** taking the last object.\n",
    "\n",
    "* Task3.1: An agent using fixed rules based on *nim-sum* (i.e., an *expert system*)\n",
    "* Task3.2: An agent using evolved rules\n",
    "* Task3.3: An agent using minmax\n",
    "* Task3.4: An agent using reinforcement learning\n",
    "\n",
    "## Instructions\n",
    "\n",
    "* Create the directory `lab3` inside the course repo \n",
    "* Put a `README.md` and your solution (all the files, code and auxiliary data if needed)\n",
    "\n",
    "## Notes\n",
    "\n",
    "* Working in group is not only allowed, but recommended (see: [Ubuntu](https://en.wikipedia.org/wiki/Ubuntu_philosophy) and [Cooperative Learning](https://files.eric.ed.gov/fulltext/EJ1096789.pdf)). Collaborations must be explicitly declared in the `README.md`.\n",
    "* [Yanking](https://www.emacswiki.org/emacs/KillingAndYanking) from the internet is allowed, but sources must be explicitly declared in the `README.md`.\n",
    "\n",
    "**Deadline**\n",
    "\n",
    "T.b.d.\n"
   ]
  },
  {
   "cell_type": "code",
   "execution_count": 60,
   "metadata": {},
   "outputs": [],
   "source": [
    "import logging\n",
    "import operator\n",
    "import functools\n",
    "import random"
   ]
  },
  {
   "cell_type": "code",
   "execution_count": 61,
   "metadata": {},
   "outputs": [],
   "source": [
    "class Nim:\n",
    "    def __init__(self, num_rows: int, k: int = None) -> None:\n",
    "        self._rows = [i*2 + 1 for i in range(num_rows)]\n",
    "        self.max = self._rows[-1]\n",
    "        self._k = k\n",
    "\n",
    "    def nimming(self, row: int, num_objects: int) -> None:\n",
    "        assert self._rows[row] >= num_objects\n",
    "        assert self._k is None or num_objects <= self._k\n",
    "        self._rows[row] -= num_objects\n",
    "        if sum(self._rows) == 0:\n",
    "            logging.info(\"Yeuch\")\n",
    "\n",
    "    def __str__(self) -> str:\n",
    "        return \"\\n\".join([\" \"*((self.max - x)//2) + \"|\"*x for x in self._rows])\n",
    "\n",
    "    def nim_sum(self) -> int:\n",
    "        return functools.reduce(operator.xor, self._rows, 0)\n",
    "\n",
    "    def end_game(self) -> bool:\n",
    "        return sum(self._rows) == 1\n",
    "\n",
    "    def computer_move(self) -> tuple[int, int]:\n",
    "        nim_sum = self.nim_sum()\n",
    "        if nim_sum != 0:\n",
    "            logging.debug(\"Playing optimally\")\n",
    "            for i in range(len(self._rows)):\n",
    "                if ((self._rows[i] ^ nim_sum) < self._rows[i]):\n",
    "                    return i, self._rows[i] ^ nim_sum\n",
    "        else:\n",
    "            # random chose a non-empty pile and remove it\n",
    "            logging.debug(\"Playng randomly\")\n",
    "            non_zero_indices = [None for _ in self._rows]\n",
    "            count = 0\n",
    "            for i in range(len(self._rows)):\n",
    "                if self._rows[i] > 0:\n",
    "                    non_zero_indices[count] = i\n",
    "                    count += 1\n",
    "            rows = int(random.random() * count)\n",
    "            k = 1 + int(random.random() * self._rows[rows])\n",
    "            return rows, k\n"
   ]
  },
  {
   "cell_type": "code",
   "execution_count": 62,
   "metadata": {},
   "outputs": [
    {
     "name": "stdout",
     "output_type": "stream",
     "text": [
      "Welcome to Nim game!\n",
      "  |\n",
      " |||\n",
      "|||||\n",
      "PC removed 2 elements from row 2\n",
      "----------\n",
      "  |\n",
      " |||\n",
      " |||\n",
      "Removed 1 element from row 0\n",
      "----------\n",
      "  \n",
      " |||\n",
      " |||\n"
     ]
    },
    {
     "ename": "AssertionError",
     "evalue": "",
     "output_type": "error",
     "traceback": [
      "\u001b[1;31m---------------------------------------------------------------------------\u001b[0m",
      "\u001b[1;31mAssertionError\u001b[0m                            Traceback (most recent call last)",
      "Cell \u001b[1;32mIn [62], line 9\u001b[0m\n\u001b[0;32m      7\u001b[0m \u001b[39mif\u001b[39;00m TURN \u001b[39m==\u001b[39m \u001b[39m0\u001b[39m:\n\u001b[0;32m      8\u001b[0m     row, k \u001b[39m=\u001b[39m game\u001b[39m.\u001b[39mcomputer_move()\n\u001b[1;32m----> 9\u001b[0m     game\u001b[39m.\u001b[39;49mnimming(row, k)\n\u001b[0;32m     10\u001b[0m     \u001b[39mprint\u001b[39m(\u001b[39mf\u001b[39m\u001b[39m\"\u001b[39m\u001b[39mPC removed \u001b[39m\u001b[39m{\u001b[39;00mk\u001b[39m}\u001b[39;00m\u001b[39m element\u001b[39m\u001b[39m{\u001b[39;00m\u001b[39m'\u001b[39m\u001b[39ms\u001b[39m\u001b[39m'\u001b[39m\u001b[39m*\u001b[39m(k \u001b[39m>\u001b[39m \u001b[39m1\u001b[39m)\u001b[39m}\u001b[39;00m\u001b[39m from row \u001b[39m\u001b[39m{\u001b[39;00mrow\u001b[39m}\u001b[39;00m\u001b[39m\"\u001b[39m)\n\u001b[0;32m     11\u001b[0m     TURN \u001b[39m=\u001b[39m \u001b[39m1\u001b[39m\n",
      "Cell \u001b[1;32mIn [61], line 8\u001b[0m, in \u001b[0;36mNim.nimming\u001b[1;34m(self, row, num_objects)\u001b[0m\n\u001b[0;32m      7\u001b[0m \u001b[39mdef\u001b[39;00m \u001b[39mnimming\u001b[39m(\u001b[39mself\u001b[39m, row: \u001b[39mint\u001b[39m, num_objects: \u001b[39mint\u001b[39m) \u001b[39m-\u001b[39m\u001b[39m>\u001b[39m \u001b[39mNone\u001b[39;00m:\n\u001b[1;32m----> 8\u001b[0m     \u001b[39massert\u001b[39;00m \u001b[39mself\u001b[39m\u001b[39m.\u001b[39m_rows[row] \u001b[39m>\u001b[39m\u001b[39m=\u001b[39m num_objects\n\u001b[0;32m      9\u001b[0m     \u001b[39massert\u001b[39;00m \u001b[39mself\u001b[39m\u001b[39m.\u001b[39m_k \u001b[39mis\u001b[39;00m \u001b[39mNone\u001b[39;00m \u001b[39mor\u001b[39;00m num_objects \u001b[39m<\u001b[39m\u001b[39m=\u001b[39m \u001b[39mself\u001b[39m\u001b[39m.\u001b[39m_k\n\u001b[0;32m     10\u001b[0m     \u001b[39mself\u001b[39m\u001b[39m.\u001b[39m_rows[row] \u001b[39m-\u001b[39m\u001b[39m=\u001b[39m num_objects\n",
      "\u001b[1;31mAssertionError\u001b[0m: "
     ]
    }
   ],
   "source": [
    "game = Nim(3)\n",
    "TURN = 0\n",
    "\n",
    "print(\"Welcome to Nim game!\")\n",
    "while not game.end_game():\n",
    "    print(game)\n",
    "    if TURN == 0:\n",
    "        row, k = game.computer_move()\n",
    "        game.nimming(row, k)\n",
    "        print(f\"PC removed {k} element{'s'*(k > 1)} from row {row}\")\n",
    "        TURN = 1\n",
    "    else:\n",
    "        row = int(input(\"Please insert a row: \")) - 1\n",
    "        k = int(input(\"Please insert how many element: \"))\n",
    "        game.nimming(row, k)\n",
    "        print(f\"Removed {k} element{'s'*(k > 1)} from row {row}\")\n",
    "        TURN = 0\n",
    "    print(f\"{'-'*10}\")\n",
    "\n"
   ]
  }
 ],
 "metadata": {
  "kernelspec": {
   "display_name": "Python 3.10.0 ('ci22-8VIwGAvU-py3.10')",
   "language": "python",
   "name": "python3"
  },
  "language_info": {
   "codemirror_mode": {
    "name": "ipython",
    "version": 3
   },
   "file_extension": ".py",
   "mimetype": "text/x-python",
   "name": "python",
   "nbconvert_exporter": "python",
   "pygments_lexer": "ipython3",
   "version": "3.10.0"
  },
  "vscode": {
   "interpreter": {
    "hash": "9c0b5ebbcc54db0eea4215a72b49a4750117c977bb82fac66e9d6a0397f1ffaa"
   }
  }
 },
 "nbformat": 4,
 "nbformat_minor": 2
}
