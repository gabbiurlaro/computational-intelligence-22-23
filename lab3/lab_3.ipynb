{
 "cells": [
  {
   "cell_type": "markdown",
   "metadata": {
    "pycharm": {
     "name": "#%% md\n"
    }
   },
   "source": [
    "Copyright **`(c)`** 2022 Giovanni Squillero `<squillero@polito.it>`  \n",
    "[`https://github.com/squillero/computational-intelligence`](https://github.com/squillero/computational-intelligence)  \n",
    "Free for personal or classroom use; see [`LICENSE.md`](https://github.com/squillero/computational-intelligence/blob/master/LICENSE.md) for details.  \n"
   ]
  },
  {
   "cell_type": "markdown",
   "metadata": {
    "pycharm": {
     "name": "#%%\n"
    }
   },
   "source": [
    "# Lab 3: Policy Search\n",
    "\n",
    "## Task\n",
    "\n",
    "Write agents able to play [*Nim*](https://en.wikipedia.org/wiki/Nim), with an arbitrary number of rows and an upper bound $k$ on the number of objects that can be removed in a turn (a.k.a., *subtraction game*).\n",
    "\n",
    "The player **taking the last object wins**.\n",
    "\n",
    "* Task3.1: An agent using fixed rules based on *nim-sum* (i.e., an *expert system*)\n",
    "* Task3.2: An agent using evolved rules\n",
    "* Task3.3: An agent using minmax\n",
    "* Task3.4: An agent using reinforcement learning\n",
    "\n",
    "## Instructions\n",
    "\n",
    "* Create the directory `lab3` inside the course repo \n",
    "* Put a `README.md` and your solution (all the files, code and auxiliary data if needed)\n",
    "\n",
    "## Notes\n",
    "\n",
    "* Working in group is not only allowed, but recommended (see: [Ubuntu](https://en.wikipedia.org/wiki/Ubuntu_philosophy) and [Cooperative Learning](https://files.eric.ed.gov/fulltext/EJ1096789.pdf)). Collaborations must be explicitly declared in the `README.md`.\n",
    "* [Yanking](https://www.emacswiki.org/emacs/KillingAndYanking) from the internet is allowed, but sources must be explicitly declared in the `README.md`.\n",
    "\n",
    "## Deadlines ([AoE](https://en.wikipedia.org/wiki/Anywhere_on_Earth))\n",
    "\n",
    "* Sunday, December 4th for Task3.1 and Task3.2\n",
    "* Sunday, December 11th for Task3.3 and Task3.4\n",
    "* Sunday, December 18th for all reviews"
   ]
  },
  {
   "cell_type": "code",
   "execution_count": 81,
   "metadata": {},
   "outputs": [],
   "source": [
    "import logging\n",
    "from collections import namedtuple\n",
    "import random\n",
    "from typing import Callable\n",
    "from copy import deepcopy\n",
    "from itertools import accumulate\n",
    "from operator import xor\n",
    "from matplotlib import pyplot as plt\n",
    "import numpy as np\n",
    "import math\n",
    "import json\n",
    "import os\n",
    "\n",
    "\n",
    "logging.basicConfig(\n",
    "    format=\"[%(asctime)s] %(levelname)s: %(message)s\",\n",
    "    datefmt=\"%H:%M:%S\",\n",
    "    level=logging.INFO,\n",
    ")"
   ]
  },
  {
   "cell_type": "markdown",
   "metadata": {},
   "source": [
    "## The *Nim* and *Nimply* classes"
   ]
  },
  {
   "cell_type": "code",
   "execution_count": 82,
   "metadata": {},
   "outputs": [],
   "source": [
    "Nimply = namedtuple(\"Nimply\", \"row, num_objects\")"
   ]
  },
  {
   "cell_type": "code",
   "execution_count": 83,
   "metadata": {},
   "outputs": [],
   "source": [
    "class Nim:\n",
    "    def __init__(self, num_rows: int, k: int = None) -> None:\n",
    "        self._rows = [i * 2 + 1 for i in range(num_rows)]\n",
    "        self._k = k\n",
    "        self._sticks = sum(self._rows)\n",
    "\n",
    "    def __bool__(self):\n",
    "        return sum(self._rows) > 0\n",
    "\n",
    "    def __str__(self):\n",
    "        return \"<\" + \" \".join(str(_) for _ in self._rows) + \">\"\n",
    "\n",
    "    @property\n",
    "    def rows(self) -> tuple:\n",
    "        return tuple(self._rows)\n",
    "\n",
    "    @property\n",
    "    def k(self) -> int:\n",
    "        return self._k\n",
    "\n",
    "    @property\n",
    "    def sticks(self) -> int:\n",
    "        return self._sticks\n",
    "\n",
    "    def nimming(self, ply: Nimply) -> None:\n",
    "        row, num_objects = ply\n",
    "        assert self._rows[row] >= num_objects\n",
    "        assert self._k is None or num_objects <= self._k\n",
    "        self._rows[row] -= num_objects"
   ]
  },
  {
   "cell_type": "code",
   "execution_count": 84,
   "metadata": {},
   "outputs": [],
   "source": [
    "def save_strategy(strategy: dict) -> None:\n",
    "    DATA_DIR = \"strategies/\"\n",
    "    current_s = 0\n",
    "    if os.listdir(DATA_DIR):\n",
    "        current_s = max([int(filename.split(\".\")[0]) for filename in os.listdir(DATA_DIR)]) + 1\n",
    "    with open(DATA_DIR + str(current_s) + \".json\", \"w\") as fp:\n",
    "        json.dump(strategy , fp)\n",
    "    return None"
   ]
  },
  {
   "cell_type": "markdown",
   "metadata": {},
   "source": [
    "## Sample (and silly) startegies "
   ]
  },
  {
   "cell_type": "code",
   "execution_count": 85,
   "metadata": {},
   "outputs": [],
   "source": [
    "def pure_random(state: Nim) -> Nimply:\n",
    "    row = random.choice([r for r, c in enumerate(state.rows) if c > 0])\n",
    "    num_objects = random.randint(1, state.rows[row])\n",
    "    return Nimply(row, num_objects)"
   ]
  },
  {
   "cell_type": "code",
   "execution_count": 86,
   "metadata": {},
   "outputs": [],
   "source": [
    "def gabriele(state: Nim) -> Nimply:\n",
    "    \"\"\"Pick always the maximum possible number of the lowest row\"\"\"\n",
    "    possible_moves = [(r, o) for r, c in enumerate(state.rows) for o in range(1, c + 1)]\n",
    "    return Nimply(*max(possible_moves, key=lambda m: (-m[0], m[1])))"
   ]
  },
  {
   "cell_type": "code",
   "execution_count": 87,
   "metadata": {},
   "outputs": [],
   "source": [
    "def aggressive(state: Nim) -> Nimply:\n",
    "    \"\"\"Pick always the entire row if the number of active rows is odd\"\"\"\n",
    "    data = cook_status(state)\n",
    "    if data['active_rows_number'] % 2 == 0:\n",
    "        # random move\n",
    "        row, num_objects = random.choice(data['possible_moves'])\n",
    "    else:\n",
    "        # aggressive move\n",
    "        row = data['longest_row']\n",
    "        num_objects = state.rows[row]\n",
    "    return Nimply(row, num_objects)"
   ]
  },
  {
   "cell_type": "code",
   "execution_count": 88,
   "metadata": {},
   "outputs": [],
   "source": [
    "def nim_sum(state: Nim) -> int:\n",
    "    *_, result = accumulate(state.rows, xor)\n",
    "    return result\n",
    "\n",
    "\n",
    "def cook_status(state: Nim, complete=False) -> dict:\n",
    "    cooked = dict()\n",
    "    cooked[\"possible_moves\"] = [\n",
    "        (r, o) for r, c in enumerate(state.rows) for o in range(1, c + 1) if state.k is None or o <= state.k\n",
    "    ]\n",
    "    cooked[\"active_rows_number\"] = sum(o > 0 for o in state.rows)\n",
    "    cooked[\"shortest_row\"] = min((x for x in enumerate(state.rows) if x[1] > 0), key=lambda y: y[1])[0]\n",
    "    cooked[\"longest_row\"] = max((x for x in enumerate(state.rows)), key=lambda y: y[1])[0]\n",
    "    cooked[\"completation\"] = sum(state.rows)/state.sticks\n",
    "    if complete:\n",
    "        brute_force = list()\n",
    "        cooked[\"nim_sum\"] = nim_sum(state)\n",
    "        for m in cooked[\"possible_moves\"]:\n",
    "            tmp = deepcopy(state)\n",
    "            tmp.nimming(m)\n",
    "            brute_force.append((m, nim_sum(tmp)))\n",
    "        cooked[\"brute_force\"] = brute_force\n",
    "    return cooked"
   ]
  },
  {
   "cell_type": "code",
   "execution_count": 89,
   "metadata": {},
   "outputs": [],
   "source": [
    "def optimal_strategy(state: Nim) -> Nimply:\n",
    "    data = cook_status(state, complete = True)\n",
    "    return next((bf for bf in data[\"brute_force\"] if bf[1] == 0), random.choice(data[\"brute_force\"]))[0]\n",
    "\n",
    "def human(state: Nim) -> Nimply:\n",
    "    print(f\"Current board: {state}\")\n",
    "    row = int(input(\"Row: \"))\n",
    "    num_objects = int(input(\"Num objects: \"))\n",
    "    return Nimply(row, num_objects)"
   ]
  },
  {
   "cell_type": "code",
   "execution_count": 90,
   "metadata": {},
   "outputs": [],
   "source": [
    "# sample_parameter = {'p': .5, 'max_k': 1, 'turn_strategy': .6}\n",
    "# concept of aggressivity -> I take everithing from the row\n",
    "\n",
    "def evolvable_strategy(parameter: dict) -> Callable:\n",
    "    def evolvable(state: Nim) -> Nimply:\n",
    "        data = cook_status(state)\n",
    "        if data['completation'] >= parameter['turn_strategy']:\n",
    "            # early strategy: take from the longest row tha maximum amount, \n",
    "            # but leave always one.\n",
    "            if state.k is not None:\n",
    "                return Nimply(data['longest_row'], ((state.rows[data['longest_row']] - 1) % (parameter['max_k'] + 1)) % state.k)\n",
    "            else:\n",
    "                return Nimply(data['longest_row'], (state.rows[data['longest_row']] - 1) % (parameter['max_k'] + 1) + 1)\n",
    "        else:\n",
    "            # take the maximum amount of the shortest row\n",
    "            if state.k is not None:\n",
    "                return Nimply(data['shortest_row'], state.rows[data['shortest_row']] % state.k)\n",
    "            else:\n",
    "                return Nimply(data['shortest_row'], state.rows[data['shortest_row']])\n",
    "    return evolvable\n",
    "\n",
    "def evolvable_random_strategy(parameter: dict) -> Callable:\n",
    "    # A the firts, just play random\n",
    "    def evolvable(state: Nim) -> Nimply:\n",
    "        row = 0\n",
    "        num_objects = 0\n",
    "        data = cook_status(state)\n",
    "        if data['completation'] >= parameter['turn_strategy']:\n",
    "            row = data['longest_row']\n",
    "            num_objects = random.randint(0, state.rows[row])\n",
    "        else:\n",
    "            row, num_objects = data['shortest_row'], state.rows[data['shortest_row']]\n",
    "        return Nimply(row, num_objects)\n",
    "    return evolvable"
   ]
  },
  {
   "cell_type": "code",
   "execution_count": 91,
   "metadata": {},
   "outputs": [],
   "source": [
    "NUM_MATCHES = 100\n",
    "NIM_SIZE = 11\n",
    "\n",
    "def evaluate_against(strategy: Callable, against: Callable) -> float:\n",
    "    opponent = (strategy, against)\n",
    "    won = 0\n",
    "    for _ in range(NUM_MATCHES):\n",
    "        nim = Nim(NIM_SIZE)\n",
    "        player = 0\n",
    "        while nim:\n",
    "            # logging.debug(nim)\n",
    "            ply = opponent[player](nim)\n",
    "            nim.nimming(ply)\n",
    "            player = 1 - player\n",
    "        if player == 1: # winner is the zero\n",
    "            won += 1\n",
    "        # logging.debug(f\"player {1 - player} has won.\")\n",
    "    return won / NUM_MATCHES"
   ]
  },
  {
   "cell_type": "markdown",
   "metadata": {},
   "source": [
    "## Task 3.1 - Expert system\n",
    "For solving this task, we introduced a certain amount of hardcoded strategies, and we evaluate it against each other"
   ]
  },
  {
   "cell_type": "code",
   "execution_count": 126,
   "metadata": {},
   "outputs": [
    {
     "name": "stdout",
     "output_type": "stream",
     "text": [
      " gabriele against gabriele: 1.0\n",
      " gabriele against pure_random: 0.84\n",
      " gabriele against aggressive: 0.0\n",
      " pure_random against gabriele: 0.24\n",
      " pure_random against pure_random: 0.53\n",
      " pure_random against aggressive: 0.25\n",
      " aggressive against gabriele: 1.0\n",
      " aggressive against pure_random: 0.75\n",
      " aggressive against aggressive: 0.4\n"
     ]
    }
   ],
   "source": [
    "# Players\n",
    "players = [gabriele, pure_random, aggressive]\n",
    "scores = [[evaluate_against(player, opponent) for opponent in players] for player in players]\n",
    "\n",
    "for i, x in enumerate(scores):\n",
    "    for j, y in enumerate(x):\n",
    "        print(f\" {players[i].__name__} against {players[j].__name__}: {y}\")\n"
   ]
  },
  {
   "cell_type": "markdown",
   "metadata": {},
   "source": [
    "## Task 3.2\n",
    "Here, we evolve some strategies\n"
   ]
  },
  {
   "cell_type": "markdown",
   "metadata": {},
   "source": [
    "### Evolve the strategy"
   ]
  },
  {
   "cell_type": "code",
   "execution_count": 92,
   "metadata": {},
   "outputs": [],
   "source": [
    "def tweak(sol: dict) -> dict:\n",
    "    sol['turn_strategy'] += np.random.normal(0, .05)\n",
    "    sol['turn_strategy'] = abs(sol['turn_strategy'])\n",
    "    if sol['turn_strategy'] > 1:\n",
    "        sol['turn_strategy'] = 1\n",
    "    sol['max_k'] += math.trunc(np.random.normal(0, .5))\n",
    "    sol['max_k'] = abs(sol['max_k'])\n",
    "    \n",
    "    return sol\n",
    "\n",
    "def hill_climber(to_be_evolved: Callable):\n",
    "    unuseful_steps = 0\n",
    "    solution = {'max_k': 1, 'turn_strategy': .6}\n",
    "    iteration = 0\n",
    "    last_score = 0.0\n",
    "    while unuseful_steps < 100 and iteration <= 1000:\n",
    "        unuseful_steps += 1\n",
    "        new_sol = tweak(solution)\n",
    "        new_strategy = to_be_evolved(new_sol)\n",
    "        score = evaluate_against(new_strategy, pure_random)\n",
    "        if score >= last_score:\n",
    "            last_score = score\n",
    "            solution = new_sol\n",
    "            unuseful_steps = 0\n",
    "        iteration += 1\n",
    "    return to_be_evolved(solution), solution\n",
    "\n",
    "f1, sol1 = hill_climber(evolvable_strategy)\n",
    "f2, sol2 = hill_climber(evolvable_random_strategy)\n",
    "\n",
    "# plt.plot(range(len(fitness_log)), fitness_log)\n",
    "# plt.show()"
   ]
  },
  {
   "cell_type": "code",
   "execution_count": 107,
   "metadata": {},
   "outputs": [
    {
     "name": "stderr",
     "output_type": "stream",
     "text": [
      "[18:13:47] INFO: {'max_k': 6, 'turn_strategy': 0.5053187055568902}\n",
      "[18:13:47] INFO: S1: score =  91.0%\n",
      "[18:13:47] INFO: {'max_k': 1, 'turn_strategy': 0.946127914495746}\n",
      "[18:13:47] INFO: S2 score = : 97.0%\n"
     ]
    },
    {
     "data": {
      "text/plain": [
       "1.0"
      ]
     },
     "execution_count": 107,
     "metadata": {},
     "output_type": "execute_result"
    }
   ],
   "source": [
    "score1 = evaluate_against(f1, pure_random)\n",
    "score2 = evaluate_against(f2, pure_random)\n",
    "\n",
    "logging.info(f\"{sol1}\")\n",
    "logging.info(f\"S1: score =  {score1:.1%}\")\n",
    "logging.info(f\"{sol2}\")\n",
    "logging.info(f\"S2 score = : {score2:.1%}\")\n",
    "\n",
    "evaluate_against(f1, f2)"
   ]
  },
  {
   "cell_type": "markdown",
   "metadata": {},
   "source": [
    "## Oversimplified match"
   ]
  },
  {
   "cell_type": "code",
   "execution_count": 94,
   "metadata": {},
   "outputs": [
    {
     "name": "stderr",
     "output_type": "stream",
     "text": [
      "[18:12:49] INFO: status: Player 0 won!\n"
     ]
    }
   ],
   "source": [
    "strategy = (f1, pure_random)\n",
    "\n",
    "nim = Nim(11)\n",
    "logging.debug(f\"status: Initial board  -> {nim}\")\n",
    "player = 0\n",
    "while nim:\n",
    "    ply = strategy[player](nim)\n",
    "    nim.nimming(ply)\n",
    "    logging.debug(f\"status: After player {player} -> {nim}\")\n",
    "    player = 1 - player\n",
    "winner = 1 - player\n",
    "logging.info(f\"status: Player {winner} won!\")"
   ]
  }
 ],
 "metadata": {
  "kernelspec": {
   "display_name": "Python 3.10.0 ('ci22-8VIwGAvU-py3.10')",
   "language": "python",
   "name": "python3"
  },
  "language_info": {
   "codemirror_mode": {
    "name": "ipython",
    "version": 3
   },
   "file_extension": ".py",
   "mimetype": "text/x-python",
   "name": "python",
   "nbconvert_exporter": "python",
   "pygments_lexer": "ipython3",
   "version": "3.10.0"
  },
  "vscode": {
   "interpreter": {
    "hash": "9c0b5ebbcc54db0eea4215a72b49a4750117c977bb82fac66e9d6a0397f1ffaa"
   }
  }
 },
 "nbformat": 4,
 "nbformat_minor": 2
}
