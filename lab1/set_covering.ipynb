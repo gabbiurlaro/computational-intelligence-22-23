{
 "cells": [
  {
   "cell_type": "markdown",
   "metadata": {},
   "source": [
    "## Set covering\n",
    "##### Gabriele Iurlaro - Salvatore Adalberto Esposito"
   ]
  },
  {
   "cell_type": "code",
   "execution_count": 1,
   "metadata": {},
   "outputs": [],
   "source": [
    "import random\n",
    "\n",
    "from typing import Callable\n",
    "from copy import deepcopy\n",
    "from gx_utils import * "
   ]
  },
  {
   "cell_type": "markdown",
   "metadata": {},
   "source": [
    "### Problem definition"
   ]
  },
  {
   "cell_type": "code",
   "execution_count": 2,
   "metadata": {},
   "outputs": [],
   "source": [
    "def problem(N, seed=None):\n",
    "    random.seed(seed)\n",
    "    return [\n",
    "        list(set(random.randint(0, N - 1) for n in range(random.randint(N // 5, N // 2))))\n",
    "        for n in range(random.randint(N, N * 5))\n",
    "    ]"
   ]
  },
  {
   "cell_type": "markdown",
   "metadata": {},
   "source": [
    "### State class"
   ]
  },
  {
   "cell_type": "code",
   "execution_count": 3,
   "metadata": {},
   "outputs": [],
   "source": [
    "class State:\n",
    "    def __init__(self, data: list):\n",
    "        self._data = data.copy()\n",
    "\n",
    "    def __hash__(self):\n",
    "        return hash(bytes([element % 256 for sublist in self._data for element in sublist]))\n",
    "\n",
    "    def __eq__(self, other):\n",
    "        return bytes([element % 256 for sublist in self._data for element in sublist]) == bytes([element % 256 for sublist in other._data for element in sublist])\n",
    "\n",
    "    def __lt__(self, other):\n",
    "        return bytes([element % 256 for sublist in self._data for element in sublist]) < bytes([element % 256 for sublist in other._data for element in sublist])\n",
    "\n",
    "    def __str__(self):\n",
    "        return str(self._data)\n",
    "\n",
    "    def __repr__(self):\n",
    "        return repr(self._data)\n",
    "\n",
    "    def add_action(self, action):\n",
    "        self._data.append(action)\n",
    "    \n",
    "    def cost(self):\n",
    "        return sum([len(_) for _ in self._data])\n",
    "        \n",
    "    @property\n",
    "    def data(self):\n",
    "        return self._data\n",
    "\n",
    "    def copy_data(self):\n",
    "        return self._data.copy()"
   ]
  },
  {
   "cell_type": "code",
   "execution_count": 4,
   "metadata": {},
   "outputs": [],
   "source": [
    "def result(state, action):\n",
    "    # Create a new state by taking the action\n",
    "    new_list = deepcopy(state._data)\n",
    "    new_list.append(action)\n",
    "    return State(new_list)"
   ]
  },
  {
   "cell_type": "code",
   "execution_count": 5,
   "metadata": {},
   "outputs": [],
   "source": [
    "def goal_test(solution, N):\n",
    "    return len(set([element for sublist in solution._data for element in sublist])) == N\n"
   ]
  },
  {
   "cell_type": "code",
   "execution_count": 6,
   "metadata": {},
   "outputs": [],
   "source": [
    "def h(s, N):\n",
    "    return N - len(set([element for sublist in s._data for element in sublist]))\n",
    "\n",
    "def possible_actions(state, all_states, max = None):\n",
    "    res = deepcopy(all_states)\n",
    "    for list in state._data:\n",
    "        # print(f\"Trying to remove {list} from {res}\")\n",
    "        res.remove(list)\n",
    "    # print(f\"Returned {len(res)} actions\")\n",
    "    if max is None:\n",
    "        return res\n",
    "    else: \n",
    "        max = min(max, len(res))\n",
    "        # print(f\"Max: {max}\")\n",
    "        return [random.choice(res) for _ in range(max)]\n",
    "\n",
    "def solution(N):\n",
    "    all_states = sorted([list(x) for x in list(set([tuple(x) for x in problem(N, seed = 42)]))], key = lambda l: -len(l))\n",
    "    # print(f\"First element: {all_states[0]}\")\n",
    "    # print(f\"Starting space has {len(all_states)} lists\")\n",
    "    # print(all_states)\n",
    "\n",
    "    if len(set([element for sublist in all_states for element in sublist])) != N:\n",
    "        print(f\"No solution with N = {N}\")\n",
    "        return\n",
    "    frontier = PriorityQueue()\n",
    "    #print(f\"Before: {all_states}\")\n",
    "\n",
    "    #print(f\"{solution}\")\n",
    "    state = State([all_states[0]])\n",
    "    state_cost = dict()\n",
    "    state_cost[state] = state.cost()\n",
    "\n",
    "    while state is not None and not goal_test(state, N):\n",
    "        for action in possible_actions(state, all_states):\n",
    "            new_state = result(state, action)\n",
    "            cost = len(action)\n",
    "            if new_state not in state_cost and new_state not in frontier:\n",
    "                state_cost[new_state] = state_cost[state] + cost\n",
    "                frontier.push(new_state, p = state_cost[new_state] + h(new_state, N))\n",
    "            elif new_state in frontier and state_cost[new_state] > state_cost[state] + cost:\n",
    "                state[new_state] = state_cost[state] + cost\n",
    "        if frontier:\n",
    "            state = frontier.pop()\n",
    "        else: \n",
    "            state = None\n",
    "    if state is None:\n",
    "        print(\"Not able to find the solution\")\n",
    "    else:\n",
    "        print(f\"#N = {N}, A* solution: weight = {state.cost()}, bloat = {(state.cost() - N)/N * 100:.1f}%, discovered nodes {len(state_cost)} \")        "
   ]
  },
  {
   "cell_type": "code",
   "execution_count": 7,
   "metadata": {},
   "outputs": [
    {
     "name": "stdout",
     "output_type": "stream",
     "text": [
      "#N = 5, Greedy best-first solution: weight = 5, bloat = 0.0%, discovered nodes 24 \n",
      "#N = 10, Greedy best-first solution: weight = 10, bloat = 0.0%, discovered nodes 318 \n",
      "#N = 20, Greedy best-first solution: weight = 24, bloat = 20.0%, discovered nodes 6728 \n"
     ]
    },
    {
     "ename": "KeyboardInterrupt",
     "evalue": "",
     "output_type": "error",
     "traceback": [
      "\u001b[1;31m---------------------------------------------------------------------------\u001b[0m",
      "\u001b[1;31mKeyboardInterrupt\u001b[0m                         Traceback (most recent call last)",
      "Cell \u001b[1;32mIn [7], line 2\u001b[0m\n\u001b[0;32m      1\u001b[0m \u001b[39mfor\u001b[39;00m n \u001b[39min\u001b[39;00m [\u001b[39m5\u001b[39m, \u001b[39m10\u001b[39m, \u001b[39m20\u001b[39m, \u001b[39m100\u001b[39m, \u001b[39m500\u001b[39m, \u001b[39m1000\u001b[39m]:\n\u001b[1;32m----> 2\u001b[0m     solution(n)\n",
      "Cell \u001b[1;32mIn [6], line 36\u001b[0m, in \u001b[0;36msolution\u001b[1;34m(N)\u001b[0m\n\u001b[0;32m     34\u001b[0m \u001b[39mwhile\u001b[39;00m state \u001b[39mis\u001b[39;00m \u001b[39mnot\u001b[39;00m \u001b[39mNone\u001b[39;00m \u001b[39mand\u001b[39;00m \u001b[39mnot\u001b[39;00m goal_test(state, N):\n\u001b[0;32m     35\u001b[0m     \u001b[39mfor\u001b[39;00m action \u001b[39min\u001b[39;00m possible_actions(state, all_states):\n\u001b[1;32m---> 36\u001b[0m         new_state \u001b[39m=\u001b[39m result(state, action)\n\u001b[0;32m     37\u001b[0m         cost \u001b[39m=\u001b[39m \u001b[39mlen\u001b[39m(action)\n\u001b[0;32m     38\u001b[0m         \u001b[39mif\u001b[39;00m new_state \u001b[39mnot\u001b[39;00m \u001b[39min\u001b[39;00m state_cost \u001b[39mand\u001b[39;00m new_state \u001b[39mnot\u001b[39;00m \u001b[39min\u001b[39;00m frontier:\n",
      "Cell \u001b[1;32mIn [4], line 3\u001b[0m, in \u001b[0;36mresult\u001b[1;34m(state, action)\u001b[0m\n\u001b[0;32m      1\u001b[0m \u001b[39mdef\u001b[39;00m \u001b[39mresult\u001b[39m(state, action):\n\u001b[0;32m      2\u001b[0m     \u001b[39m# Create a new state by taking the action\u001b[39;00m\n\u001b[1;32m----> 3\u001b[0m     new_list \u001b[39m=\u001b[39m deepcopy(state\u001b[39m.\u001b[39;49m_data)\n\u001b[0;32m      4\u001b[0m     new_list\u001b[39m.\u001b[39mappend(action)\n\u001b[0;32m      5\u001b[0m     \u001b[39mreturn\u001b[39;00m State(new_list)\n",
      "File \u001b[1;32m~\\AppData\\Local\\Programs\\Python\\Python310\\lib\\copy.py:146\u001b[0m, in \u001b[0;36mdeepcopy\u001b[1;34m(x, memo, _nil)\u001b[0m\n\u001b[0;32m    144\u001b[0m copier \u001b[39m=\u001b[39m _deepcopy_dispatch\u001b[39m.\u001b[39mget(\u001b[39mcls\u001b[39m)\n\u001b[0;32m    145\u001b[0m \u001b[39mif\u001b[39;00m copier \u001b[39mis\u001b[39;00m \u001b[39mnot\u001b[39;00m \u001b[39mNone\u001b[39;00m:\n\u001b[1;32m--> 146\u001b[0m     y \u001b[39m=\u001b[39m copier(x, memo)\n\u001b[0;32m    147\u001b[0m \u001b[39melse\u001b[39;00m:\n\u001b[0;32m    148\u001b[0m     \u001b[39mif\u001b[39;00m \u001b[39missubclass\u001b[39m(\u001b[39mcls\u001b[39m, \u001b[39mtype\u001b[39m):\n",
      "File \u001b[1;32m~\\AppData\\Local\\Programs\\Python\\Python310\\lib\\copy.py:206\u001b[0m, in \u001b[0;36m_deepcopy_list\u001b[1;34m(x, memo, deepcopy)\u001b[0m\n\u001b[0;32m    204\u001b[0m append \u001b[39m=\u001b[39m y\u001b[39m.\u001b[39mappend\n\u001b[0;32m    205\u001b[0m \u001b[39mfor\u001b[39;00m a \u001b[39min\u001b[39;00m x:\n\u001b[1;32m--> 206\u001b[0m     append(deepcopy(a, memo))\n\u001b[0;32m    207\u001b[0m \u001b[39mreturn\u001b[39;00m y\n",
      "File \u001b[1;32m~\\AppData\\Local\\Programs\\Python\\Python310\\lib\\copy.py:146\u001b[0m, in \u001b[0;36mdeepcopy\u001b[1;34m(x, memo, _nil)\u001b[0m\n\u001b[0;32m    144\u001b[0m copier \u001b[39m=\u001b[39m _deepcopy_dispatch\u001b[39m.\u001b[39mget(\u001b[39mcls\u001b[39m)\n\u001b[0;32m    145\u001b[0m \u001b[39mif\u001b[39;00m copier \u001b[39mis\u001b[39;00m \u001b[39mnot\u001b[39;00m \u001b[39mNone\u001b[39;00m:\n\u001b[1;32m--> 146\u001b[0m     y \u001b[39m=\u001b[39m copier(x, memo)\n\u001b[0;32m    147\u001b[0m \u001b[39melse\u001b[39;00m:\n\u001b[0;32m    148\u001b[0m     \u001b[39mif\u001b[39;00m \u001b[39missubclass\u001b[39m(\u001b[39mcls\u001b[39m, \u001b[39mtype\u001b[39m):\n",
      "File \u001b[1;32m~\\AppData\\Local\\Programs\\Python\\Python310\\lib\\copy.py:206\u001b[0m, in \u001b[0;36m_deepcopy_list\u001b[1;34m(x, memo, deepcopy)\u001b[0m\n\u001b[0;32m    204\u001b[0m append \u001b[39m=\u001b[39m y\u001b[39m.\u001b[39mappend\n\u001b[0;32m    205\u001b[0m \u001b[39mfor\u001b[39;00m a \u001b[39min\u001b[39;00m x:\n\u001b[1;32m--> 206\u001b[0m     append(deepcopy(a, memo))\n\u001b[0;32m    207\u001b[0m \u001b[39mreturn\u001b[39;00m y\n",
      "File \u001b[1;32m~\\AppData\\Local\\Programs\\Python\\Python310\\lib\\copy.py:138\u001b[0m, in \u001b[0;36mdeepcopy\u001b[1;34m(x, memo, _nil)\u001b[0m\n\u001b[0;32m    135\u001b[0m     memo \u001b[39m=\u001b[39m {}\n\u001b[0;32m    137\u001b[0m d \u001b[39m=\u001b[39m \u001b[39mid\u001b[39m(x)\n\u001b[1;32m--> 138\u001b[0m y \u001b[39m=\u001b[39m memo\u001b[39m.\u001b[39;49mget(d, _nil)\n\u001b[0;32m    139\u001b[0m \u001b[39mif\u001b[39;00m y \u001b[39mis\u001b[39;00m \u001b[39mnot\u001b[39;00m _nil:\n\u001b[0;32m    140\u001b[0m     \u001b[39mreturn\u001b[39;00m y\n",
      "\u001b[1;31mKeyboardInterrupt\u001b[0m: "
     ]
    }
   ],
   "source": [
    "for n in [5, 10, 20, 100, 500, 1000]:\n",
    "    solution(n)\n",
    "    "
   ]
  }
 ],
 "metadata": {
  "kernelspec": {
   "display_name": "Python 3.10.0 ('2223-8VIwGAvU-py3.10')",
   "language": "python",
   "name": "python3"
  },
  "language_info": {
   "codemirror_mode": {
    "name": "ipython",
    "version": 3
   },
   "file_extension": ".py",
   "mimetype": "text/x-python",
   "name": "python",
   "nbconvert_exporter": "python",
   "pygments_lexer": "ipython3",
   "version": "3.10.0"
  },
  "orig_nbformat": 4,
  "vscode": {
   "interpreter": {
    "hash": "9afca3e922cf853efd9307cdcb9c5f42511fd5fbf641f657c6326667ac09802e"
   }
  }
 },
 "nbformat": 4,
 "nbformat_minor": 2
}
