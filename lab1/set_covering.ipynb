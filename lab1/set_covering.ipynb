{
 "cells": [
  {
   "cell_type": "markdown",
   "metadata": {},
   "source": [
    "## Set covering\n",
    "##### Gabriele Iurlaro - Salvatore Adalberto Esposito"
   ]
  },
  {
   "cell_type": "code",
   "execution_count": 1,
   "metadata": {},
   "outputs": [],
   "source": [
    "import random\n",
    "\n",
    "from typing import Callable\n",
    "from copy import deepcopy\n",
    "from gx_utils import * \n",
    "import logging"
   ]
  },
  {
   "cell_type": "markdown",
   "metadata": {},
   "source": [
    "### Problem definition"
   ]
  },
  {
   "cell_type": "code",
   "execution_count": 2,
   "metadata": {},
   "outputs": [],
   "source": [
    "def problem(N, seed=None):\n",
    "    random.seed(seed)\n",
    "    return [\n",
    "        list(set(random.randint(0, N - 1) for n in range(random.randint(N // 5, N // 2))))\n",
    "        for n in range(random.randint(N, N * 5))\n",
    "    ]"
   ]
  },
  {
   "cell_type": "markdown",
   "metadata": {},
   "source": [
    "### State class"
   ]
  },
  {
   "cell_type": "code",
   "execution_count": 3,
   "metadata": {},
   "outputs": [],
   "source": [
    "class State:\n",
    "    def __init__(self, data: list):\n",
    "        self._data = data.copy()\n",
    "\n",
    "    def __hash__(self):\n",
    "        return hash(bytes([element % 256 for sublist in self._data for element in sublist]))\n",
    "\n",
    "    def __eq__(self, other):\n",
    "        return bytes([element % 256 for sublist in self._data for element in sublist]) == bytes([element % 256 for sublist in other._data for element in sublist])\n",
    "\n",
    "    def __lt__(self, other):\n",
    "        return bytes([element % 256 for sublist in self._data for element in sublist]) < bytes([element % 256 for sublist in other._data for element in sublist])\n",
    "\n",
    "    def __str__(self):\n",
    "        return str(self._data)\n",
    "\n",
    "    def __repr__(self):\n",
    "        return repr(self._data)\n",
    "\n",
    "    def add_action(self, action):\n",
    "        self._data.append(action)\n",
    "    \n",
    "    def cost(self):\n",
    "        return sum([len(_) for _ in self._data])\n",
    "        \n",
    "    @property\n",
    "    def data(self):\n",
    "        return self._data\n",
    "\n",
    "    def copy_data(self):\n",
    "        return self._data.copy()"
   ]
  },
  {
   "cell_type": "code",
   "execution_count": 4,
   "metadata": {},
   "outputs": [],
   "source": [
    "def result(state, action):\n",
    "    # Create a new state by taking the action\n",
    "    new_list = deepcopy(state._data)\n",
    "    new_list.append(action)\n",
    "    return State(new_list)"
   ]
  },
  {
   "cell_type": "code",
   "execution_count": 5,
   "metadata": {},
   "outputs": [],
   "source": [
    "def goal_test(solution, N):\n",
    "    return len(set([element for sublist in solution._data for element in sublist])) == N\n"
   ]
  },
  {
   "cell_type": "markdown",
   "metadata": {},
   "source": [
    "## A* "
   ]
  },
  {
   "cell_type": "code",
   "execution_count": 6,
   "metadata": {},
   "outputs": [],
   "source": [
    "def h(s, N):\n",
    "    return N - len(set([element for sublist in s._data for element in sublist]))\n",
    "\n",
    "def possible_actions(state, all_states, max = None):\n",
    "    res = deepcopy(all_states)\n",
    "    for list in state._data:\n",
    "        # print(f\"Trying to remove {list} from {res}\")\n",
    "        res.remove(list)\n",
    "    # print(f\"Returned {len(res)} actions\")\n",
    "    if max is None:\n",
    "        return res\n",
    "    else: \n",
    "        max = min(max, len(res))\n",
    "        # print(f\"Max: {max}\")\n",
    "        return [random.choice(res) for _ in range(max)]\n",
    "\n",
    "def solution(N):\n",
    "    all_states = sorted([list(x) for x in list(set([tuple(x) for x in problem(N, seed = 42)]))], key = lambda l: -len(l))\n",
    "    # print(f\"First element: {all_states[0]}\")\n",
    "    # print(f\"Starting space has {len(all_states)} lists\")\n",
    "    # print(all_states)\n",
    "\n",
    "    if len(set([element for sublist in all_states for element in sublist])) != N:\n",
    "        print(f\"No solution with N = {N}\")\n",
    "        return\n",
    "    frontier = PriorityQueue()\n",
    "    #print(f\"Before: {all_states}\")\n",
    "\n",
    "    #print(f\"{solution}\")\n",
    "    state = State([all_states[0]])\n",
    "    state_cost = dict()\n",
    "    state_cost[state] = state.cost()\n",
    "\n",
    "    while state is not None and not goal_test(state, N):\n",
    "        for action in possible_actions(state, all_states):\n",
    "            new_state = result(state, action)\n",
    "            cost = len(action)\n",
    "            if new_state not in state_cost and new_state not in frontier:\n",
    "                state_cost[new_state] = state_cost[state] + cost\n",
    "                frontier.push(new_state, p = state_cost[new_state] + h(new_state, N))\n",
    "            elif new_state in frontier and state_cost[new_state] > state_cost[state] + cost:\n",
    "                state[new_state] = state_cost[state] + cost\n",
    "        if frontier:\n",
    "            state = frontier.pop()\n",
    "        else: \n",
    "            state = None\n",
    "    if state is None:\n",
    "        print(\"Not able to find the solution\")\n",
    "    else:\n",
    "        print(f\"#N = {N}, A* solution: weight = {state.cost()}, bloat = {(state.cost() - N)/N * 100:.1f}%, discovered nodes {len(state_cost)} \")        "
   ]
  },
  {
   "cell_type": "code",
   "execution_count": 7,
   "metadata": {},
   "outputs": [
    {
     "name": "stdout",
     "output_type": "stream",
     "text": [
      "#N = 5, A* solution: weight = 5, bloat = 0.0%, discovered nodes 24 \n",
      "#N = 10, A* solution: weight = 10, bloat = 0.0%, discovered nodes 318 \n",
      "#N = 20, A* solution: weight = 24, bloat = 20.0%, discovered nodes 6728 \n"
     ]
    }
   ],
   "source": [
    "for n in [5, 10, 20]:\n",
    "    solution(n)\n",
    "    "
   ]
  },
  {
   "cell_type": "markdown",
   "metadata": {},
   "source": [
    "## Hill Climbing solution"
   ]
  },
  {
   "cell_type": "code",
   "execution_count": 8,
   "metadata": {},
   "outputs": [],
   "source": [
    "def hc(N, all_lists):\n",
    "    \"\"\"Vanilla Hill Climber\"\"\"\n",
    "    all_lists = set(tuple(_) for _ in all_lists)\n",
    "\n",
    "    def evaluate(state):\n",
    "        cnt = Counter()\n",
    "        cnt.update(sum((e for e in state), start=()))\n",
    "        return len(cnt), -cnt.total()\n",
    "\n",
    "    def tweak(solution):\n",
    "        new_solution = set(solution)\n",
    "        while new_solution and random.random() < 0.7:\n",
    "            r = random.choice(list(new_solution))\n",
    "            new_solution.remove(r)\n",
    "        while random.random() < 0.7:\n",
    "            a = random.choice(list(all_lists - solution))\n",
    "            new_solution.add(a)\n",
    "        return new_solution\n",
    "\n",
    "    current_solution = set()\n",
    "    useless_steps = 0\n",
    "    while useless_steps < 10_000:\n",
    "        useless_steps += 1\n",
    "        candidate_solution = tweak(current_solution)\n",
    "        if evaluate(candidate_solution) > evaluate(current_solution):\n",
    "            useless_steps = 0\n",
    "            current_solution = copy(candidate_solution)\n",
    "            logging.debug(f\"New solution: {evaluate(current_solution)}\")\n",
    "    return current_solution"
   ]
  },
  {
   "cell_type": "code",
   "execution_count": 9,
   "metadata": {},
   "outputs": [
    {
     "ename": "NameError",
     "evalue": "name 'copy' is not defined",
     "output_type": "error",
     "traceback": [
      "\u001b[1;31m---------------------------------------------------------------------------\u001b[0m",
      "\u001b[1;31mNameError\u001b[0m                                 Traceback (most recent call last)",
      "Cell \u001b[1;32mIn [9], line 4\u001b[0m\n\u001b[0;32m      1\u001b[0m logging\u001b[39m.\u001b[39mgetLogger()\u001b[39m.\u001b[39msetLevel(logging\u001b[39m.\u001b[39mINFO)\n\u001b[0;32m      3\u001b[0m \u001b[39mfor\u001b[39;00m N \u001b[39min\u001b[39;00m [\u001b[39m5\u001b[39m, \u001b[39m10\u001b[39m, \u001b[39m20\u001b[39m, \u001b[39m100\u001b[39m, \u001b[39m500\u001b[39m, \u001b[39m1000\u001b[39m]:\n\u001b[1;32m----> 4\u001b[0m     solution \u001b[39m=\u001b[39m hc(N, problem(N, seed\u001b[39m=\u001b[39m\u001b[39m42\u001b[39m))\n\u001b[0;32m      5\u001b[0m     logging\u001b[39m.\u001b[39minfo(\n\u001b[0;32m      6\u001b[0m         \u001b[39mf\u001b[39m\u001b[39m\"\u001b[39m\u001b[39m Solution for N=\u001b[39m\u001b[39m{\u001b[39;00mN\u001b[39m:\u001b[39;00m\u001b[39m,\u001b[39m\u001b[39m}\u001b[39;00m\u001b[39m: \u001b[39m\u001b[39m\"\u001b[39m\n\u001b[0;32m      7\u001b[0m         \u001b[39m+\u001b[39m \u001b[39mf\u001b[39m\u001b[39m\"\u001b[39m\u001b[39mw=\u001b[39m\u001b[39m{\u001b[39;00m\u001b[39msum\u001b[39m(\u001b[39mlen\u001b[39m(_) \u001b[39mfor\u001b[39;00m _ \u001b[39min\u001b[39;00m solution)\u001b[39m:\u001b[39;00m\u001b[39m,\u001b[39m\u001b[39m}\u001b[39;00m\u001b[39m \u001b[39m\u001b[39m\"\u001b[39m\n\u001b[0;32m      8\u001b[0m         \u001b[39m+\u001b[39m \u001b[39mf\u001b[39m\u001b[39m\"\u001b[39m\u001b[39m(bloat=\u001b[39m\u001b[39m{\u001b[39;00m(\u001b[39msum\u001b[39m(\u001b[39mlen\u001b[39m(_) \u001b[39mfor\u001b[39;00m _ \u001b[39min\u001b[39;00m solution)\u001b[39m-\u001b[39mN)\u001b[39m/\u001b[39mN\u001b[39m*\u001b[39m\u001b[39m100\u001b[39m\u001b[39m:\u001b[39;00m\u001b[39m.0f\u001b[39m\u001b[39m}\u001b[39;00m\u001b[39m%)\u001b[39m\u001b[39m\"\u001b[39m\n\u001b[0;32m      9\u001b[0m     )\n",
      "Cell \u001b[1;32mIn [8], line 27\u001b[0m, in \u001b[0;36mhc\u001b[1;34m(N, all_lists)\u001b[0m\n\u001b[0;32m     25\u001b[0m     \u001b[39mif\u001b[39;00m evaluate(candidate_solution) \u001b[39m>\u001b[39m evaluate(current_solution):\n\u001b[0;32m     26\u001b[0m         useless_steps \u001b[39m=\u001b[39m \u001b[39m0\u001b[39m\n\u001b[1;32m---> 27\u001b[0m         current_solution \u001b[39m=\u001b[39m copy(candidate_solution)\n\u001b[0;32m     28\u001b[0m         logging\u001b[39m.\u001b[39mdebug(\u001b[39mf\u001b[39m\u001b[39m\"\u001b[39m\u001b[39mNew solution: \u001b[39m\u001b[39m{\u001b[39;00mevaluate(current_solution)\u001b[39m}\u001b[39;00m\u001b[39m\"\u001b[39m)\n\u001b[0;32m     29\u001b[0m \u001b[39mreturn\u001b[39;00m current_solution\n",
      "\u001b[1;31mNameError\u001b[0m: name 'copy' is not defined"
     ]
    }
   ],
   "source": [
    "logging.getLogger().setLevel(logging.INFO)\n",
    "\n",
    "for N in [5, 10, 20, 100, 500, 1000]:\n",
    "    solution = hc(N, problem(N, seed=42))\n",
    "    logging.info(\n",
    "        f\" Solution for N={N:,}: \"\n",
    "        + f\"w={sum(len(_) for _ in solution):,} \"\n",
    "        + f\"(bloat={(sum(len(_) for _ in solution)-N)/N*100:.0f}%)\"\n",
    "    )"
   ]
  }
 ],
 "metadata": {
  "kernelspec": {
   "display_name": "Python 3.10.8 64-bit (microsoft store)",
   "language": "python",
   "name": "python3"
  },
  "language_info": {
   "codemirror_mode": {
    "name": "ipython",
    "version": 3
   },
   "file_extension": ".py",
   "mimetype": "text/x-python",
   "name": "python",
   "nbconvert_exporter": "python",
   "pygments_lexer": "ipython3",
   "version": "3.10.8"
  },
  "orig_nbformat": 4,
  "vscode": {
   "interpreter": {
    "hash": "99e40dec9a8733b0849a71812a2b448145626a0328a37171e984a820d3dac4f6"
   }
  }
 },
 "nbformat": 4,
 "nbformat_minor": 2
}
