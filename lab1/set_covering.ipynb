{
 "cells": [
  {
   "cell_type": "markdown",
   "metadata": {},
   "source": [
    "## Set covering\n",
    "##### Gabriele Iurlaro - Salvatore Adalberto Esposito"
   ]
  },
  {
   "cell_type": "code",
   "execution_count": 1,
   "metadata": {},
   "outputs": [],
   "source": [
    "import random\n",
    "\n",
    "from typing import Callable\n",
    "from copy import deepcopy\n",
    "from gx_utils import * "
   ]
  },
  {
   "cell_type": "markdown",
   "metadata": {},
   "source": [
    "### Problem definition"
   ]
  },
  {
   "cell_type": "code",
   "execution_count": 2,
   "metadata": {},
   "outputs": [],
   "source": [
    "def problem(N, seed=None):\n",
    "    random.seed(seed)\n",
    "    return [\n",
    "        list(set(random.randint(0, N - 1) for n in range(random.randint(N // 5, N // 2))))\n",
    "        for n in range(random.randint(N, N * 5))\n",
    "    ]"
   ]
  },
  {
   "cell_type": "markdown",
   "metadata": {},
   "source": [
    "### State class"
   ]
  },
  {
   "cell_type": "code",
   "execution_count": 3,
   "metadata": {},
   "outputs": [],
   "source": [
    "class State:\n",
    "    def __init__(self, data: list):\n",
    "        self._data = data.copy()\n",
    "\n",
    "    def __hash__(self):\n",
    "        return hash(bytes([element % 256 for sublist in self._data for element in sublist]))\n",
    "\n",
    "    def __eq__(self, other):\n",
    "        return bytes([element % 256 for sublist in self._data for element in sublist]) == bytes([element % 256 for sublist in other._data for element in sublist])\n",
    "\n",
    "    def __lt__(self, other):\n",
    "        return bytes([element % 256 for sublist in self._data for element in sublist]) < bytes([element % 256 for sublist in other._data for element in sublist])\n",
    "\n",
    "    def __str__(self):\n",
    "        return str(self._data)\n",
    "\n",
    "    def __repr__(self):\n",
    "        return repr(self._data)\n",
    "\n",
    "    def add_action(self, action):\n",
    "        self._data.append(action)\n",
    "    \n",
    "    def cost(self):\n",
    "        return sum([len(_) for _ in self._data])\n",
    "        \n",
    "    @property\n",
    "    def data(self):\n",
    "        return self._data\n",
    "\n",
    "    def copy_data(self):\n",
    "        return self._data.copy()"
   ]
  },
  {
   "cell_type": "code",
   "execution_count": 4,
   "metadata": {},
   "outputs": [],
   "source": [
    "def result(state, action):\n",
    "    # Create a new state by taking the action\n",
    "    new_list = deepcopy(state._data)\n",
    "    new_list.append(action)\n",
    "    return State(new_list)"
   ]
  },
  {
   "cell_type": "code",
   "execution_count": 5,
   "metadata": {},
   "outputs": [],
   "source": [
    "def goal_test(solution, N):\n",
    "    return len(set([element for sublist in solution._data for element in sublist])) == N\n"
   ]
  },
  {
   "cell_type": "code",
   "execution_count": 6,
   "metadata": {},
   "outputs": [],
   "source": [
    "def h(s, N):\n",
    "    return N - len(set([element for sublist in s._data for element in sublist]))\n",
    "\n",
    "def possible_actions(state, all_states, max = None):\n",
    "    res = deepcopy(all_states)\n",
    "    for list in state._data:\n",
    "        # print(f\"Trying to remove {list} from {res}\")\n",
    "        res.remove(list)\n",
    "    # print(f\"Returned {len(res)} actions\")\n",
    "    if max is None:\n",
    "        return res\n",
    "    else: \n",
    "        max = min(max, len(res))\n",
    "        # print(f\"Max: {max}\")\n",
    "        return [random.choice(res) for _ in range(max)]\n",
    "\n",
    "def solution(N):\n",
    "    all_states = sorted([list(x) for x in list(set([tuple(x) for x in problem(N, seed = 42)]))], key = lambda l: -len(l))\n",
    "    # print(f\"First element: {all_states[0]}\")\n",
    "    # print(f\"Starting space has {len(all_states)} lists\")\n",
    "    # print(all_states)\n",
    "\n",
    "    if len(set([element for sublist in all_states for element in sublist])) != N:\n",
    "        print(f\"No solution with N = {N}\")\n",
    "        return\n",
    "    frontier = PriorityQueue()\n",
    "    #print(f\"Before: {all_states}\")\n",
    "\n",
    "    #print(f\"{solution}\")\n",
    "    state = State([all_states[0]])\n",
    "    state_cost = dict()\n",
    "    state_cost[state] = state.cost()\n",
    "\n",
    "    while state is not None and not goal_test(state, N):\n",
    "        for action in possible_actions(state, all_states):\n",
    "            new_state = result(state, action)\n",
    "            cost = len(action)\n",
    "            if new_state not in state_cost and new_state not in frontier:\n",
    "                state_cost[new_state] = state_cost[state] + cost\n",
    "                frontier.push(new_state, p = state_cost[new_state] + h(new_state, N))\n",
    "            elif new_state in frontier and state_cost[new_state] > state_cost[state] + cost:\n",
    "                state[new_state] = state_cost[state] + cost\n",
    "        if frontier:\n",
    "            state = frontier.pop()\n",
    "        else: \n",
    "            state = None\n",
    "    if state is None:\n",
    "        print(\"Not able to find the solution\")\n",
    "    else:\n",
    "        print(f\"#N = {N}, Greedy best-first solution: weight = {state.cost()}, bloat = {(state.cost() - N)/N * 100:.1f}%, discovered nodes {len(state_cost)} \")        "
   ]
  },
  {
   "cell_type": "code",
   "execution_count": 7,
   "metadata": {},
   "outputs": [
    {
     "name": "stdout",
     "output_type": "stream",
     "text": [
      "#N = 5, Greedy best-first solution: weight = 6, bloat = 20.0%, discovered nodes 18 \n",
      "#N = 10, Greedy best-first solution: weight = 13, bloat = 30.0%, discovered nodes 82 \n",
      "#N = 20, Greedy best-first solution: weight = 29, bloat = 45.0%, discovered nodes 97 \n",
      "#N = 100, Greedy best-first solution: weight = 192, bloat = 92.0%, discovered nodes 1699 \n",
      "#N = 500, Greedy best-first solution: weight = 1295, bloat = 159.0%, discovered nodes 10834 \n"
     ]
    }
   ],
   "source": [
    "for n in [5, 10, 20, 100, 500, 1000]:\n",
    "    solution(n)\n",
    "    "
   ]
  }
 ],
 "metadata": {
  "kernelspec": {
   "display_name": "Python 3.10.7 64-bit (microsoft store)",
   "language": "python",
   "name": "python3"
  },
  "language_info": {
   "codemirror_mode": {
    "name": "ipython",
    "version": 3
   },
   "file_extension": ".py",
   "mimetype": "text/x-python",
   "name": "python",
   "nbconvert_exporter": "python",
   "pygments_lexer": "ipython3",
   "version": "3.10.7"
  },
  "orig_nbformat": 4,
  "vscode": {
   "interpreter": {
    "hash": "99e40dec9a8733b0849a71812a2b448145626a0328a37171e984a820d3dac4f6"
   }
  }
 },
 "nbformat": 4,
 "nbformat_minor": 2
}
